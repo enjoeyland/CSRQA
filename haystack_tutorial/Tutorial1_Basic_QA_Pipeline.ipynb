{
  "cells": [
    {
      "cell_type": "markdown",
      "metadata": {
        "id": "6qan2sHFStwU"
      },
      "source": [
        "# Build Your First QA System\n",
        "\n",
        "<img style=\"float: right;\" src=\"https://upload.wikimedia.org/wikipedia/en/d/d8/Game_of_Thrones_title_card.jpg\">\n",
        "\n",
        "[![Open In Colab](https://colab.research.google.com/assets/colab-badge.svg)](https://colab.research.google.com/github/deepset-ai/haystack/blob/main/tutorials/Tutorial1_Basic_QA_Pipeline.ipynb)\n",
        "\n",
        "Question Answering can be used in a variety of use cases. A very common one:  Using it to navigate through complex knowledge bases or long documents (\"search setting\").\n",
        "\n",
        "A \"knowledge base\" could for example be your website, an internal wiki or a collection of financial reports. \n",
        "In this tutorial we will work on a slightly different domain: \"Game of Thrones\". \n",
        "\n",
        "Let's see how we can use a bunch of Wikipedia articles to answer a variety of questions about the \n",
        "marvellous seven kingdoms.\n"
      ]
    },
    {
      "cell_type": "markdown",
      "metadata": {
        "collapsed": false,
        "id": "RK2uDE5pStwZ"
      },
      "source": [
        "### Prepare environment\n",
        "\n",
        "#### Colab: Enable the GPU runtime\n",
        "Make sure you enable the GPU runtime to experience decent speed in this tutorial.\n",
        "**Runtime -> Change Runtime type -> Hardware accelerator -> GPU**\n",
        "\n",
        "<img src=\"https://raw.githubusercontent.com/deepset-ai/haystack/main/docs/img/colab_gpu_runtime.jpg\">"
      ]
    },
    {
      "cell_type": "code",
      "execution_count": 1,
      "metadata": {
        "colab": {
          "base_uri": "https://localhost:8080/"
        },
        "id": "mTWCxSYsStwZ",
        "outputId": "85b0497a-ff7f-4175-ef1d-9465ceb3c88e",
        "pycharm": {
          "name": "#%%\n"
        }
      },
      "outputs": [],
      "source": [
        "# Make sure you have a GPU running\n",
        "# !nvidia-smi"
      ]
    },
    {
      "cell_type": "code",
      "execution_count": 2,
      "metadata": {
        "colab": {
          "base_uri": "https://localhost:8080/"
        },
        "id": "KYiLMAQFStwa",
        "outputId": "83bb03e1-ca65-43c8-f6ca-c0d52114e9ea"
      },
      "outputs": [],
      "source": [
        "# Install the latest release of Haystack in your own environment\n",
        "#! pip install farm-haystack\n",
        "\n",
        "# Install the latest main of Haystack\n",
        "# !pip install --upgrade pip\n",
        "# !pip install git+https://github.com/deepset-ai/haystack.git#egg=farm-haystack[colab]"
      ]
    },
    {
      "cell_type": "markdown",
      "metadata": {
        "collapsed": false,
        "id": "tuVU3A0eStwb",
        "pycharm": {
          "name": "#%% md\n"
        }
      },
      "source": [
        "## Logging\n",
        "\n",
        "We configure how logging messages should be displayed and which log level should be used before importing Haystack.\n",
        "Example log message:\n",
        "INFO - haystack.utils.preprocessing -  Converting data/tutorial1/218_Olenna_Tyrell.txt\n",
        "Default log level in basicConfig is WARNING so the explicit parameter is not necessary but can be changed easily:"
      ]
    },
    {
      "cell_type": "code",
      "execution_count": 3,
      "metadata": {
        "id": "PdIMHrABStwb",
        "pycharm": {
          "name": "#%%\n"
        }
      },
      "outputs": [],
      "source": [
        "import logging\n",
        "\n",
        "logging.basicConfig(format=\"%(levelname)s - %(name)s -  %(message)s\", level=logging.WARNING)\n",
        "logging.getLogger(\"haystack\").setLevel(logging.INFO)"
      ]
    },
    {
      "cell_type": "code",
      "execution_count": 4,
      "metadata": {
        "id": "ZYe1NvPYStwc",
        "pycharm": {
          "name": "#%%\n"
        }
      },
      "outputs": [
        {
          "name": "stderr",
          "output_type": "stream",
          "text": [
            "/home/iknow/anaconda3/envs/cs/lib/python3.9/site-packages/tqdm/auto.py:22: TqdmWarning: IProgress not found. Please update jupyter and ipywidgets. See https://ipywidgets.readthedocs.io/en/stable/user_install.html\n",
            "  from .autonotebook import tqdm as notebook_tqdm\n"
          ]
        }
      ],
      "source": [
        "from haystack.utils import clean_wiki_text, convert_files_to_docs, fetch_archive_from_http, print_answers\n",
        "from haystack.nodes import FARMReader, TransformersReader"
      ]
    },
    {
      "cell_type": "markdown",
      "metadata": {
        "id": "YNwziO6UStwd"
      },
      "source": [
        "## Document Store\n",
        "\n",
        "Haystack finds answers to queries within the documents stored in a `DocumentStore`. The current implementations of `DocumentStore` include `ElasticsearchDocumentStore`, `FAISSDocumentStore`,  `SQLDocumentStore`, and `InMemoryDocumentStore`.\n",
        "\n",
        "**Here:** We recommended Elasticsearch as it comes preloaded with features like [full-text queries](https://www.elastic.co/guide/en/elasticsearch/reference/current/full-text-queries.html), [BM25 retrieval](https://www.elastic.co/elasticon/conf/2016/sf/improved-text-scoring-with-bm25), and [vector storage for text embeddings](https://www.elastic.co/guide/en/elasticsearch/reference/7.6/dense-vector.html).\n",
        "\n",
        "**Alternatives:** If you are unable to setup an Elasticsearch instance, then follow the [Tutorial 3](https://github.com/deepset-ai/haystack/blob/main/tutorials/Tutorial3_Basic_QA_Pipeline_without_Elasticsearch.ipynb) for using SQL/InMemory document stores.\n",
        "\n",
        "**Hint**: This tutorial creates a new document store instance with Wikipedia articles on Game of Thrones. However, you can configure Haystack to work with your existing document stores.\n",
        "\n",
        "### Start an Elasticsearch server\n",
        "You can start Elasticsearch on your local machine instance using Docker. If Docker is not readily available in your environment (e.g. in Colab notebooks), then you can manually download and execute Elasticsearch from source."
      ]
    },
    {
      "cell_type": "code",
      "execution_count": 5,
      "metadata": {
        "id": "vIyW0tNsStwd"
      },
      "outputs": [],
      "source": [
        "# Recommended: Start Elasticsearch using Docker via the Haystack utility function\n",
        "from haystack.utils import launch_es\n",
        "\n",
        "launch_es()"
      ]
    },
    {
      "cell_type": "code",
      "execution_count": 6,
      "metadata": {
        "id": "pqVuIYu6Stwe"
      },
      "outputs": [],
      "source": [
        "# # In Colab / No Docker environments: Start Elasticsearch from source\n",
        "# ! wget https://artifacts.elastic.co/downloads/elasticsearch/elasticsearch-7.9.2-linux-x86_64.tar.gz -q\n",
        "# ! tar -xzf elasticsearch-7.9.2-linux-x86_64.tar.gz\n",
        "# ! chown -R daemon:daemon elasticsearch-7.9.2\n",
        "\n",
        "# import os\n",
        "# from subprocess import Popen, PIPE, STDOUT\n",
        "\n",
        "# es_server = Popen(\n",
        "#     [\"elasticsearch-7.9.2/bin/elasticsearch\"], stdout=PIPE, stderr=STDOUT, preexec_fn=lambda: os.setuid(1)  # as daemon\n",
        "# )\n",
        "# # wait until ES has started\n",
        "# ! sleep 30"
      ]
    },
    {
      "cell_type": "code",
      "execution_count": 7,
      "metadata": {
        "id": "Z887xz1VStwf",
        "pycharm": {
          "name": "#%%\n"
        }
      },
      "outputs": [],
      "source": [
        "# Connect to Elasticsearch\n",
        "\n",
        "from haystack.document_stores import ElasticsearchDocumentStore\n",
        "\n",
        "document_store = ElasticsearchDocumentStore(host=\"localhost\", username=\"\", password=\"\", index=\"document\")"
      ]
    },
    {
      "cell_type": "markdown",
      "metadata": {
        "id": "v-8BwGL7Stwf",
        "pycharm": {
          "name": "#%% md\n"
        }
      },
      "source": [
        "## Preprocessing of documents\n",
        "\n",
        "Haystack provides a customizable pipeline for:\n",
        " - converting files into texts\n",
        " - cleaning texts\n",
        " - splitting texts\n",
        " - writing them to a Document Store\n",
        "\n",
        "In this tutorial, we download Wikipedia articles about Game of Thrones, apply a basic cleaning function, and index them in Elasticsearch."
      ]
    },
    {
      "cell_type": "code",
      "execution_count": 8,
      "metadata": {
        "id": "PFGKJ_OLStwg",
        "pycharm": {
          "name": "#%%\n"
        }
      },
      "outputs": [
        {
          "name": "stderr",
          "output_type": "stream",
          "text": [
            "INFO - haystack.utils.import_utils -  Found data stored in `data/tutorial1`. Delete this first if you really want to fetch new data.\n",
            "INFO - haystack.utils.preprocessing -  Converting data/tutorial1/51_Iron_Throne__A_Song_of_Ice_and_Fire_.txt\n",
            "INFO - haystack.utils.preprocessing -  Converting data/tutorial1/454_Music_of_Game_of_Thrones.txt\n",
            "INFO - haystack.utils.preprocessing -  Converting data/tutorial1/22_The_Rains_of_Castamere__song_.txt\n",
            "INFO - haystack.utils.preprocessing -  Converting data/tutorial1/39_Renly_Baratheon.txt\n",
            "INFO - haystack.utils.preprocessing -  Converting data/tutorial1/148_Game_of_Thrones__Winter_Is_Coming.txt\n",
            "INFO - haystack.utils.preprocessing -  Converting data/tutorial1/199_A_Storm_of_Swords.txt\n",
            "INFO - haystack.utils.preprocessing -  Converting data/tutorial1/191_Gendry.txt\n",
            "INFO - haystack.utils.preprocessing -  Converting data/tutorial1/134_Game_of_Thrones__Season_6__soundtrack_.txt\n",
            "INFO - haystack.utils.preprocessing -  Converting data/tutorial1/508_A_Game_of_Thrones__Second_Edition__card_game_.txt\n",
            "INFO - haystack.utils.preprocessing -  Converting data/tutorial1/8_Eastwatch.txt\n",
            "INFO - haystack.utils.preprocessing -  Converting data/tutorial1/193_Lord_Snow.txt\n",
            "INFO - haystack.utils.preprocessing -  Converting data/tutorial1/485_Oathkeeper.txt\n",
            "INFO - haystack.utils.preprocessing -  Converting data/tutorial1/154_Margaery_Tyrell.txt\n",
            "INFO - haystack.utils.preprocessing -  Converting data/tutorial1/27_Game_of_Thrones__Season_4__soundtrack_.txt\n",
            "INFO - haystack.utils.preprocessing -  Converting data/tutorial1/395_Game_of_Thrones__season_5_.txt\n",
            "INFO - haystack.utils.preprocessing -  Converting data/tutorial1/450_Baelor.txt\n",
            "INFO - haystack.utils.preprocessing -  Converting data/tutorial1/127_The_Climb__Game_of_Thrones_.txt\n",
            "INFO - haystack.utils.preprocessing -  Converting data/tutorial1/69_The_Red_Woman.txt\n",
            "INFO - haystack.utils.preprocessing -  Converting data/tutorial1/368_Jaime_Lannister.txt\n",
            "INFO - haystack.utils.preprocessing -  Converting data/tutorial1/443_The_Kingsroad.txt\n",
            "INFO - haystack.utils.preprocessing -  Converting data/tutorial1/477_A_Dance_with_Dragons.txt\n",
            "INFO - haystack.utils.preprocessing -  Converting data/tutorial1/25_Game_of_Thrones__Season_2__soundtrack_.txt\n",
            "INFO - haystack.utils.preprocessing -  Converting data/tutorial1/401_Power_Is_Power.txt\n",
            "INFO - haystack.utils.preprocessing -  Converting data/tutorial1/495_Hodor.txt\n",
            "INFO - haystack.utils.preprocessing -  Converting data/tutorial1/369_Samwell_Tarly.txt\n",
            "INFO - haystack.utils.preprocessing -  Converting data/tutorial1/262_Gilly__character_.txt\n",
            "INFO - haystack.utils.preprocessing -  Converting data/tutorial1/2_Stormborn.txt\n",
            "INFO - haystack.utils.preprocessing -  Converting data/tutorial1/217_The_Rogue_Prince.txt\n",
            "INFO - haystack.utils.preprocessing -  Converting data/tutorial1/210_The_Mountain_and_the_Viper.txt\n",
            "INFO - haystack.utils.preprocessing -  Converting data/tutorial1/402_A_Knight_of_the_Seven_Kingdoms__Game_of_Thrones_.txt\n",
            "INFO - haystack.utils.preprocessing -  Converting data/tutorial1/446_A_Golden_Crown.txt\n",
            "INFO - haystack.utils.preprocessing -  Converting data/tutorial1/330_Oberyn_Martell.txt\n",
            "INFO - haystack.utils.preprocessing -  Converting data/tutorial1/84_List_of_awards_and_nominations_received_by_Game_of_Thrones.txt\n",
            "INFO - haystack.utils.preprocessing -  Converting data/tutorial1/211_The_Watchers_on_the_Wall.txt\n",
            "INFO - haystack.utils.preprocessing -  Converting data/tutorial1/349_List_of_Game_of_Thrones_characters.txt\n",
            "INFO - haystack.utils.preprocessing -  Converting data/tutorial1/224_The_Night_Lands.txt\n",
            "INFO - haystack.utils.preprocessing -  Converting data/tutorial1/340_Roose_Bolton.txt\n",
            "INFO - haystack.utils.preprocessing -  Converting data/tutorial1/396_Game_of_Thrones__season_6_.txt\n",
            "INFO - haystack.utils.preprocessing -  Converting data/tutorial1/73_A_Man_Without_Honor.txt\n",
            "INFO - haystack.utils.preprocessing -  Converting data/tutorial1/420_Blood_of_My_Blood.txt\n",
            "INFO - haystack.utils.preprocessing -  Converting data/tutorial1/480_Varys.txt\n",
            "INFO - haystack.utils.preprocessing -  Converting data/tutorial1/511_After_the_Thrones.txt\n",
            "INFO - haystack.utils.preprocessing -  Converting data/tutorial1/160_Viserys_Targaryen.txt\n",
            "INFO - haystack.utils.preprocessing -  Converting data/tutorial1/444_Cripples__Bastards__and_Broken_Things.txt\n",
            "INFO - haystack.utils.preprocessing -  Converting data/tutorial1/121_The_Bear_and_the_Maiden_Fair.txt\n",
            "INFO - haystack.utils.preprocessing -  Converting data/tutorial1/54_Two_Swords__Game_of_Thrones_.txt\n",
            "INFO - haystack.utils.preprocessing -  Converting data/tutorial1/410_The_Bells__Game_of_Thrones_.txt\n",
            "INFO - haystack.utils.preprocessing -  Converting data/tutorial1/481_Sandor_Clegane.txt\n",
            "INFO - haystack.utils.preprocessing -  Converting data/tutorial1/232_Tommen_Baratheon.txt\n",
            "INFO - haystack.utils.preprocessing -  Converting data/tutorial1/202_A_Feast_for_Crows.txt\n",
            "INFO - haystack.utils.preprocessing -  Converting data/tutorial1/126_Kissed_by_Fire.txt\n",
            "INFO - haystack.utils.preprocessing -  Converting data/tutorial1/233_Myrcella_Baratheon.txt\n",
            "INFO - haystack.utils.preprocessing -  Converting data/tutorial1/129_Second_Sons.txt\n",
            "INFO - haystack.utils.preprocessing -  Converting data/tutorial1/151_Ellaria_Sand.txt\n",
            "INFO - haystack.utils.preprocessing -  Converting data/tutorial1/367_Gregor_Clegane.txt\n",
            "INFO - haystack.utils.preprocessing -  Converting data/tutorial1/408_The_Last_of_the_Starks.txt\n",
            "INFO - haystack.utils.preprocessing -  Converting data/tutorial1/360_List_of_Game_of_Thrones_episodes.txt\n",
            "INFO - haystack.utils.preprocessing -  Converting data/tutorial1/28_Jorah_Mormont.txt\n",
            "INFO - haystack.utils.preprocessing -  Converting data/tutorial1/343_Catelyn_Stark.txt\n",
            "INFO - haystack.utils.preprocessing -  Converting data/tutorial1/474_Bronn__character_.txt\n",
            "INFO - haystack.utils.preprocessing -  Converting data/tutorial1/334_Rickon_Stark.txt\n",
            "INFO - haystack.utils.preprocessing -  Converting data/tutorial1/475_A_Game_of_Thrones__role-playing_game_.txt\n",
            "INFO - haystack.utils.preprocessing -  Converting data/tutorial1/447_You_Win_or_You_Die.txt\n",
            "INFO - haystack.utils.preprocessing -  Converting data/tutorial1/456_Works_based_on_A_Song_of_Ice_and_Fire.txt\n",
            "INFO - haystack.utils.preprocessing -  Converting data/tutorial1/67_Unbowed__Unbent__Unbroken.txt\n",
            "INFO - haystack.utils.preprocessing -  Converting data/tutorial1/515_The_Door__Game_of_Thrones_.txt\n",
            "INFO - haystack.utils.preprocessing -  Converting data/tutorial1/201_A_Game_of_Thrones__card_game_.txt\n",
            "INFO - haystack.utils.preprocessing -  Converting data/tutorial1/20_Light_of_the_Seven.txt\n",
            "INFO - haystack.utils.preprocessing -  Converting data/tutorial1/488_Brienne_of_Tarth.txt\n",
            "INFO - haystack.utils.preprocessing -  Converting data/tutorial1/102_The_Princess_and_the_Queen.txt\n",
            "INFO - haystack.utils.preprocessing -  Converting data/tutorial1/304_Hardhome.txt\n",
            "INFO - haystack.utils.preprocessing -  Converting data/tutorial1/263_Tormund_Giantsbane.txt\n",
            "INFO - haystack.utils.preprocessing -  Converting data/tutorial1/482_Petyr_Baelish.txt\n",
            "INFO - haystack.utils.preprocessing -  Converting data/tutorial1/345_A_Game_of_Thrones__comics_.txt\n",
            "INFO - haystack.utils.preprocessing -  Converting data/tutorial1/85_Game_of_Thrones__Seven_Kingdoms.txt\n",
            "INFO - haystack.utils.preprocessing -  Converting data/tutorial1/77_Game_of_Thrones_Ascent.txt\n",
            "INFO - haystack.utils.preprocessing -  Converting data/tutorial1/68_The_Gift__Game_of_Thrones_.txt\n",
            "INFO - haystack.utils.preprocessing -  Converting data/tutorial1/1_Dragonstone__Game_of_Thrones_episode_.txt\n",
            "INFO - haystack.utils.preprocessing -  Converting data/tutorial1/452_Fire_and_Blood__Game_of_Thrones_.txt\n",
            "INFO - haystack.utils.preprocessing -  Converting data/tutorial1/74_The_Prince_of_Winterfell.txt\n",
            "INFO - haystack.utils.preprocessing -  Converting data/tutorial1/209_Mockingbird__Game_of_Thrones_.txt\n",
            "INFO - haystack.utils.preprocessing -  Converting data/tutorial1/57_The_Laws_of_Gods_and_Men.txt\n",
            "INFO - haystack.utils.preprocessing -  Converting data/tutorial1/365_A_Song_of_Ice_and_Fire_Roleplaying.txt\n",
            "INFO - haystack.utils.preprocessing -  Converting data/tutorial1/439_Melisandre.txt\n",
            "INFO - haystack.utils.preprocessing -  Converting data/tutorial1/487_Ramsay_Bolton.txt\n",
            "INFO - haystack.utils.preprocessing -  Converting data/tutorial1/504_List_of_A_Song_of_Ice_and_Fire_video_games.txt\n",
            "INFO - haystack.utils.preprocessing -  Converting data/tutorial1/33_David_Benioff.txt\n",
            "INFO - haystack.utils.preprocessing -  Converting data/tutorial1/299_Rani_Mahal__TV_series_.txt\n",
            "INFO - haystack.utils.preprocessing -  Converting data/tutorial1/118_Dark_Wings__Dark_Words.txt\n",
            "INFO - haystack.utils.preprocessing -  Converting data/tutorial1/341_Ned_Stark.txt\n",
            "INFO - haystack.utils.preprocessing -  Converting data/tutorial1/394_Game_of_Thrones__2014_video_game_.txt\n",
            "INFO - haystack.utils.preprocessing -  Converting data/tutorial1/21_The_Bear_and_the_Maiden_Fair__song_.txt\n",
            "INFO - haystack.utils.preprocessing -  Converting data/tutorial1/310_Mother_s_Mercy.txt\n",
            "INFO - haystack.utils.preprocessing -  Converting data/tutorial1/228_Souad_Faress.txt\n",
            "INFO - haystack.utils.preprocessing -  Converting data/tutorial1/23_Game_of_Thrones_Live_Concert_Experience.txt\n",
            "INFO - haystack.utils.preprocessing -  Converting data/tutorial1/98_Black_Friday__South_Park_.txt\n",
            "INFO - haystack.utils.preprocessing -  Converting data/tutorial1/400_Winterfell__Game_of_Thrones_episode_.txt\n",
            "INFO - haystack.utils.preprocessing -  Converting data/tutorial1/424_Night_King.txt\n",
            "INFO - haystack.utils.preprocessing -  Converting data/tutorial1/198_A_Clash_of_Kings.txt\n",
            "INFO - haystack.utils.preprocessing -  Converting data/tutorial1/317_The_Broken_Man.txt\n",
            "INFO - haystack.utils.preprocessing -  Converting data/tutorial1/86_Game_of_Thrones__season_4_.txt\n",
            "INFO - haystack.utils.preprocessing -  Converting data/tutorial1/56_First_of_His_Name.txt\n",
            "INFO - haystack.utils.preprocessing -  Converting data/tutorial1/43_Arya_Stark.txt\n",
            "INFO - haystack.utils.preprocessing -  Converting data/tutorial1/514_Book_of_the_Stranger.txt\n",
            "INFO - haystack.utils.preprocessing -  Converting data/tutorial1/101_Titties_and_Dragons.txt\n",
            "INFO - haystack.utils.preprocessing -  Converting data/tutorial1/371_Cersei_Lannister.txt\n",
            "INFO - haystack.utils.preprocessing -  Converting data/tutorial1/52_Catch_the_Throne.txt\n",
            "INFO - haystack.utils.preprocessing -  Converting data/tutorial1/311_Game_of_Thrones__season_7_.txt\n",
            "INFO - haystack.utils.preprocessing -  Converting data/tutorial1/78_The_Rains_of_Castamere.txt\n",
            "INFO - haystack.utils.preprocessing -  Converting data/tutorial1/512_Home__Game_of_Thrones_.txt\n",
            "INFO - haystack.utils.preprocessing -  Converting data/tutorial1/403_Jenny_of_Oldstones.txt\n",
            "INFO - haystack.utils.preprocessing -  Converting data/tutorial1/373_Tywin_Lannister.txt\n",
            "INFO - haystack.utils.preprocessing -  Converting data/tutorial1/30_List_of_A_Song_of_Ice_and_Fire_characters.txt\n",
            "INFO - haystack.utils.preprocessing -  Converting data/tutorial1/0_Game_of_Thrones__season_8_.txt\n",
            "INFO - haystack.utils.preprocessing -  Converting data/tutorial1/87_Valar_Dohaeris.txt\n",
            "INFO - haystack.utils.preprocessing -  Converting data/tutorial1/378_A_Game_of_Thrones__board_game_.txt\n",
            "INFO - haystack.utils.preprocessing -  Converting data/tutorial1/435_White_Walker.txt\n",
            "INFO - haystack.utils.preprocessing -  Converting data/tutorial1/445_The_Wolf_and_the_Lion.txt\n",
            "INFO - haystack.utils.preprocessing -  Converting data/tutorial1/358_A_Game_of_Thrones__Genesis.txt\n",
            "INFO - haystack.utils.preprocessing -  Converting data/tutorial1/24_Game_of_Thrones__Season_1__soundtrack_.txt\n",
            "INFO - haystack.utils.preprocessing -  Converting data/tutorial1/76_Valar_Morghulis.txt\n",
            "INFO - haystack.utils.preprocessing -  Converting data/tutorial1/207_Jon_Snow__character_.txt\n",
            "INFO - haystack.utils.preprocessing -  Converting data/tutorial1/80_A_Song_of_Ice_and_Fire_fandom.txt\n",
            "INFO - haystack.utils.preprocessing -  Converting data/tutorial1/75_Blackwater__Game_of_Thrones_.txt\n",
            "INFO - haystack.utils.preprocessing -  Converting data/tutorial1/407_The_Long_Night__Game_of_Thrones_.txt\n",
            "INFO - haystack.utils.preprocessing -  Converting data/tutorial1/146_The_Sons_of_the_Dragon.txt\n",
            "INFO - haystack.utils.preprocessing -  Converting data/tutorial1/195_World_of_A_Song_of_Ice_and_Fire.txt\n",
            "INFO - haystack.utils.preprocessing -  Converting data/tutorial1/197_A_Game_of_Thrones.txt\n",
            "INFO - haystack.utils.preprocessing -  Converting data/tutorial1/229_Game_of_Thrones.txt\n",
            "INFO - haystack.utils.preprocessing -  Converting data/tutorial1/342_Theon_Greyjoy.txt\n",
            "INFO - haystack.utils.preprocessing -  Converting data/tutorial1/461_The_Winds_of_Winter__Game_of_Thrones_.txt\n",
            "INFO - haystack.utils.preprocessing -  Converting data/tutorial1/399_For_the_Throne__Music_Inspired_by_the_HBO_Series_Game_of_Thrones.txt\n",
            "INFO - haystack.utils.preprocessing -  Converting data/tutorial1/460_Battle_of_the_Bastards.txt\n",
            "INFO - haystack.utils.preprocessing -  Converting data/tutorial1/130_Game_of_Thrones_title_sequence.txt\n",
            "INFO - haystack.utils.preprocessing -  Converting data/tutorial1/11_The_Dragon_and_the_Wolf.txt\n",
            "INFO - haystack.utils.preprocessing -  Converting data/tutorial1/135_Game_of_Thrones__Season_7__soundtrack_.txt\n",
            "INFO - haystack.utils.preprocessing -  Converting data/tutorial1/26_Game_of_Thrones__Season_3__soundtrack_.txt\n",
            "INFO - haystack.utils.preprocessing -  Converting data/tutorial1/99_A_Song_of_Ass_and_Fire.txt\n",
            "INFO - haystack.utils.preprocessing -  Converting data/tutorial1/120_And_Now_His_Watch_Is_Ended.txt\n",
            "INFO - haystack.utils.preprocessing -  Converting data/tutorial1/442_Game_of_Thrones__season_1_.txt\n",
            "INFO - haystack.utils.preprocessing -  Converting data/tutorial1/449_The_Pointy_End.txt\n",
            "INFO - haystack.utils.preprocessing -  Converting data/tutorial1/347_Game_of_Thrones__season_2_.txt\n",
            "INFO - haystack.utils.preprocessing -  Converting data/tutorial1/214_Dothraki_language.txt\n",
            "INFO - haystack.utils.preprocessing -  Converting data/tutorial1/501_Khal_Drogo.txt\n",
            "INFO - haystack.utils.preprocessing -  Converting data/tutorial1/7_The_Spoils_of_War__Game_of_Thrones_.txt\n",
            "INFO - haystack.utils.preprocessing -  Converting data/tutorial1/53_The_Lion_and_the_Rose.txt\n",
            "INFO - haystack.utils.preprocessing -  Converting data/tutorial1/213_Valyrian_languages.txt\n",
            "INFO - haystack.utils.preprocessing -  Converting data/tutorial1/37_Joffrey_Baratheon.txt\n",
            "INFO - haystack.utils.preprocessing -  Converting data/tutorial1/273_High_Sparrow.txt\n",
            "INFO - haystack.utils.preprocessing -  Converting data/tutorial1/136_Game_of_Thrones__Season_8__soundtrack_.txt\n",
            "INFO - haystack.utils.preprocessing -  Converting data/tutorial1/306_The_Dance_of_Dragons.txt\n",
            "INFO - haystack.utils.preprocessing -  Converting data/tutorial1/55_Breaker_of_Chains.txt\n",
            "INFO - haystack.utils.preprocessing -  Converting data/tutorial1/208_Robb_Stark.txt\n",
            "INFO - haystack.utils.preprocessing -  Converting data/tutorial1/133_Game_of_Thrones__Season_5__soundtrack_.txt\n",
            "INFO - haystack.utils.preprocessing -  Converting data/tutorial1/218_Olenna_Tyrell.txt\n",
            "INFO - haystack.utils.preprocessing -  Converting data/tutorial1/145_Elio_M._García_Jr._and_Linda_Antonsson.txt\n",
            "INFO - haystack.utils.preprocessing -  Converting data/tutorial1/40_Stannis_Baratheon.txt\n",
            "INFO - haystack.utils.preprocessing -  Converting data/tutorial1/97_Tyrion_Lannister.txt\n",
            "INFO - haystack.utils.preprocessing -  Converting data/tutorial1/425_No_One__Game_of_Thrones_.txt\n",
            "INFO - haystack.utils.preprocessing -  Converting data/tutorial1/348_The_Winds_of_Winter.txt\n",
            "INFO - haystack.utils.preprocessing -  Converting data/tutorial1/331_Bran_Stark.txt\n",
            "INFO - haystack.utils.preprocessing -  Converting data/tutorial1/453_Game_of_Thrones__2012_video_game_.txt\n",
            "INFO - haystack.utils.preprocessing -  Converting data/tutorial1/194_A_Song_of_Ice_and_Fire.txt\n",
            "INFO - haystack.utils.preprocessing -  Converting data/tutorial1/346_Ygritte.txt\n",
            "INFO - haystack.utils.preprocessing -  Converting data/tutorial1/332_Sansa_Stark.txt\n",
            "INFO - haystack.utils.preprocessing -  Converting data/tutorial1/411_The_Iron_Throne__Game_of_Thrones_.txt\n",
            "INFO - haystack.utils.preprocessing -  Converting data/tutorial1/10_Beyond_the_Wall__Game_of_Thrones_.txt\n",
            "INFO - haystack.utils.preprocessing -  Converting data/tutorial1/379_Davos_Seaworth.txt\n",
            "INFO - haystack.utils.preprocessing -  Converting data/tutorial1/356_Tales_of_Dunk_and_Egg.txt\n",
            "INFO - haystack.utils.preprocessing -  Converting data/tutorial1/469_Outline_of_A_Song_of_Ice_and_Fire_franchise.txt\n",
            "INFO - haystack.utils.preprocessing -  Converting data/tutorial1/79_Thronecast.txt\n",
            "INFO - haystack.utils.preprocessing -  Converting data/tutorial1/131_Mhysa.txt\n",
            "INFO - haystack.utils.preprocessing -  Converting data/tutorial1/9_Game_of_Thrones_Tapestry.txt\n",
            "INFO - haystack.utils.preprocessing -  Converting data/tutorial1/329_Robert_Baratheon.txt\n",
            "INFO - haystack.utils.preprocessing -  Converting data/tutorial1/359_Kill_the_Boy.txt\n",
            "INFO - haystack.utils.preprocessing -  Converting data/tutorial1/513_Oathbreaker__Game_of_Thrones_.txt\n",
            "INFO - haystack.utils.preprocessing -  Converting data/tutorial1/506_Game_of_Thrones_Theme.txt\n",
            "INFO - haystack.utils.preprocessing -  Converting data/tutorial1/44_Daenerys_Targaryen.txt\n",
            "INFO - haystack.utils.preprocessing -  Converting data/tutorial1/362_Winter_Is_Coming.txt\n",
            "INFO - haystack.utils.preprocessing -  Converting data/tutorial1/212_The_Children__Game_of_Thrones_.txt\n",
            "INFO - haystack.utils.preprocessing -  Converting data/tutorial1/119_Walk_of_Punishment.txt\n",
            "INFO - haystack.utils.preprocessing -  Converting data/tutorial1/3_The_Queen_s_Justice.txt\n",
            "INFO - haystack.utils.preprocessing -  Converting data/tutorial1/12_Fire.txt\n"
          ]
        },
        {
          "name": "stdout",
          "output_type": "stream",
          "text": [
            "[<Document: {'content': 'The \\'\\'\\'Iron Throne\\'\\'\\' is a metonym for the fictional monarchy of Westeros as well as the physical throne of its monarch in the \\'\\'A Song of Ice and Fire\\'\\' series of fantasy novels by George R. R. Martin. The success of the HBO television adaptation \\'\\'Game of Thrones\\'\\' has made the show\\'s version of the royal seat an icon of the entire media franchise. Martin said in 2013,  \"Say \\'\\'Game of Thrones\\'\\', and people think of the HBO Iron Throne.\"\\nMartin called the depiction of the throne in his 2014 \\'\\'A Song of Ice and Fire\\'\\' companion book \\'\\'The World of Ice & Fire\\'\\' \"absolutely right\". He has noted repeatedly that none of the previous media representations of the throne—including books, games and the TV series—closely resemble what he had in mind when writing his novels.', 'content_type': 'text', 'score': None, 'meta': {'name': '51_Iron_Throne__A_Song_of_Ice_and_Fire_.txt'}, 'embedding': None, 'id': 'c7df5d976697b9a9bd6b55097b8e3223'}>, <Document: {'content': \"\\n==''A Song of Ice and Fire''==\\nIn the series, the Iron Throne is both a physical seat of office as well as a metonym for the monarchy of Westeros. Martin establishes in ''A Game of Thrones'' (1996) that after seizing control of six of the Seven Kingdoms, Targaryen ruler Aegon the Conqueror had made a throne for himself from the swords of his vanquished enemies, fused by dragonfire. Aegon had established King's Landing as the royal capital, and the Iron Throne itself sits in the Red Keep. Martin writes that according to legend, Aegon kept the blades sharp so that no ruler should ever sit comfortably. Centuries later, kings still cut themselves on the throne; it is a common belief that such rulers are therefore unfit to rule.\", 'content_type': 'text', 'score': None, 'meta': {'name': '51_Iron_Throne__A_Song_of_Ice_and_Fire_.txt'}, 'embedding': None, 'id': '137340baf69a3bd68c192677063be58b'}>, <Document: {'content': '\\n===Description===\\nPurportedly made from a thousand swords and knives, the Iron Throne is a massive and asymmetrical tangle of jagged and twisted blades, in which reclining is impossible.', 'content_type': 'text', 'score': None, 'meta': {'name': '51_Iron_Throne__A_Song_of_Ice_and_Fire_.txt'}, 'embedding': None, 'id': '309ed4a8ca0ba9e9e9a0b784561bb682'}>]\n"
          ]
        }
      ],
      "source": [
        "# Let's first fetch some documents that we want to query\n",
        "# Here: 517 Wikipedia articles for Game of Thrones\n",
        "doc_dir = \"data/tutorial1\"\n",
        "s3_url = \"https://s3.eu-central-1.amazonaws.com/deepset.ai-farm-qa/datasets/documents/wiki_gameofthrones_txt1.zip\"\n",
        "fetch_archive_from_http(url=s3_url, output_dir=doc_dir)\n",
        "\n",
        "# Convert files to dicts\n",
        "# You can optionally supply a cleaning function that is applied to each doc (e.g. to remove footers)\n",
        "# It must take a str as input, and return a str.\n",
        "docs = convert_files_to_docs(dir_path=doc_dir, clean_func=clean_wiki_text, split_paragraphs=True)\n",
        "\n",
        "# We now have a list of dictionaries that we can write to our document store.\n",
        "# If your texts come from a different source (e.g. a DB), you can of course skip convert_files_to_dicts() and create the dictionaries yourself.\n",
        "# The default format here is:\n",
        "# {\n",
        "#    'content': \"<DOCUMENT_TEXT_HERE>\",\n",
        "#    'meta': {'name': \"<DOCUMENT_NAME_HERE>\", ...}\n",
        "# }\n",
        "# (Optionally: you can also add more key-value-pairs here, that will be indexed as fields in Elasticsearch and\n",
        "# can be accessed later for filtering or shown in the responses of the Pipeline)\n",
        "\n",
        "# Let's have a look at the first 3 entries:\n",
        "print(docs[:3])\n",
        "\n",
        "# Now, let's write the dicts containing documents to our DB.\n",
        "document_store.write_documents(docs)"
      ]
    },
    {
      "cell_type": "markdown",
      "metadata": {
        "id": "9kM6YW2HStwg"
      },
      "source": [
        "## Initialize Retriever, Reader & Pipeline\n",
        "\n",
        "### Retriever\n",
        "\n",
        "Retrievers help narrowing down the scope for the Reader to smaller units of text where a given question could be answered.\n",
        "They use some simple but fast algorithm.\n",
        "\n",
        "**Here:** We use Elasticsearch's default BM25 algorithm\n",
        "\n",
        "**Alternatives:**\n",
        "\n",
        "- Customize the `BM25Retriever`with custom queries (e.g. boosting) and filters\n",
        "- Use `TfidfRetriever` in combination with a SQL or InMemory Document store for simple prototyping and debugging\n",
        "- Use `EmbeddingRetriever` to find candidate documents based on the similarity of embeddings (e.g. created via Sentence-BERT)\n",
        "- Use `DensePassageRetriever` to use different embedding models for passage and query (see Tutorial 6)"
      ]
    },
    {
      "cell_type": "code",
      "execution_count": 9,
      "metadata": {
        "id": "Yd7UWRy0Stwg"
      },
      "outputs": [],
      "source": [
        "from haystack.nodes import BM25Retriever\n",
        "\n",
        "retriever = BM25Retriever(document_store=document_store)"
      ]
    },
    {
      "cell_type": "code",
      "execution_count": 10,
      "metadata": {
        "id": "NnYpuGPAStwh",
        "pycharm": {
          "is_executing": false,
          "name": "#%%\n"
        }
      },
      "outputs": [],
      "source": [
        "# Alternative: An in-memory TfidfRetriever based on Pandas dataframes for building quick-prototypes with SQLite document store.\n",
        "\n",
        "# from haystack.nodes import TfidfRetriever\n",
        "# retriever = TfidfRetriever(document_store=document_store)"
      ]
    },
    {
      "cell_type": "markdown",
      "metadata": {
        "id": "0dRX5hH6Stwh"
      },
      "source": [
        "### Reader\n",
        "\n",
        "A Reader scans the texts returned by retrievers in detail and extracts the k best answers. They are based\n",
        "on powerful, but slower deep learning models.\n",
        "\n",
        "Haystack currently supports Readers based on the frameworks FARM and Transformers.\n",
        "With both you can either load a local model or one from Hugging Face's model hub (https://huggingface.co/models).\n",
        "\n",
        "**Here:** a medium sized RoBERTa QA model using a Reader based on FARM (https://huggingface.co/deepset/roberta-base-squad2)\n",
        "\n",
        "**Alternatives (Reader):** TransformersReader (leveraging the `pipeline` of the Transformers package)\n",
        "\n",
        "**Alternatives (Models):** e.g. \"distilbert-base-uncased-distilled-squad\" (fast) or \"deepset/bert-large-uncased-whole-word-masking-squad2\" (good accuracy)\n",
        "\n",
        "**Hint:** You can adjust the model to return \"no answer possible\" with the no_ans_boost. Higher values mean the model prefers \"no answer possible\"\n",
        "\n",
        "#### FARMReader"
      ]
    },
    {
      "cell_type": "code",
      "execution_count": 11,
      "metadata": {
        "id": "JhGaV3oqStwh",
        "pycharm": {
          "is_executing": false
        }
      },
      "outputs": [
        {
          "name": "stderr",
          "output_type": "stream",
          "text": [
            "INFO - haystack.modeling.utils -  Using devices: CUDA:0, CUDA:1\n",
            "INFO - haystack.modeling.utils -  Number of GPUs: 2\n",
            "INFO - haystack.modeling.model.language_model -   * LOADING MODEL: 'deepset/roberta-base-squad2' (Roberta)\n",
            "INFO - haystack.modeling.model.language_model -  Auto-detected model language: english\n",
            "INFO - haystack.modeling.model.language_model -  Loaded 'deepset/roberta-base-squad2' (Roberta model) from model hub.\n",
            "INFO - haystack.modeling.utils -  Using devices: CUDA\n",
            "INFO - haystack.modeling.utils -  Number of GPUs: 1\n",
            "INFO - haystack.modeling.infer -  Got ya 15 parallel workers to do inference ...\n",
            "INFO - haystack.modeling.infer -   0     0     0     0     0     0     0     0     0     0     0     0     0     0     0  \n",
            "INFO - haystack.modeling.infer -  /w\\   /w\\   /w\\   /w\\   /w\\   /w\\   /w\\   /|\\   /w\\   /w\\   /w\\   /w\\   /w\\   /w\\   /|\\ \n",
            "INFO - haystack.modeling.infer -  /'\\   / \\   /'\\   /'\\   / \\   / \\   /'\\   /'\\   /'\\   /'\\   /'\\   /'\\   / \\   /'\\   /'\\ \n"
          ]
        }
      ],
      "source": [
        "# Load a  local model or any of the QA models on\n",
        "# Hugging Face's model hub (https://huggingface.co/models)\n",
        "\n",
        "reader = FARMReader(model_name_or_path=\"deepset/roberta-base-squad2\", use_gpu=True)"
      ]
    },
    {
      "cell_type": "markdown",
      "metadata": {
        "id": "eZg_RZ6YStwh"
      },
      "source": [
        "#### TransformersReader"
      ]
    },
    {
      "cell_type": "code",
      "execution_count": 12,
      "metadata": {
        "id": "yF-kfKf0Stwi"
      },
      "outputs": [],
      "source": [
        "# Alternative:\n",
        "# reader = TransformersReader(model_name_or_path=\"distilbert-base-uncased-distilled-squad\", tokenizer=\"distilbert-base-uncased\", use_gpu=-1)"
      ]
    },
    {
      "cell_type": "markdown",
      "metadata": {
        "id": "Fe3etJcSStwi"
      },
      "source": [
        "### Pipeline\n",
        "\n",
        "With a Haystack `Pipeline` you can stick together your building blocks to a search pipeline.\n",
        "Under the hood, `Pipelines` are Directed Acyclic Graphs (DAGs) that you can easily customize for your own use cases.\n",
        "To speed things up, Haystack also comes with a few predefined Pipelines. One of them is the `ExtractiveQAPipeline` that combines a retriever and a reader to answer our questions.\n",
        "You can learn more about `Pipelines` in the [docs](https://haystack.deepset.ai/docs/latest/pipelinesmd)."
      ]
    },
    {
      "cell_type": "code",
      "execution_count": 13,
      "metadata": {
        "id": "Vj4yz2ATStwi",
        "pycharm": {
          "is_executing": false
        }
      },
      "outputs": [],
      "source": [
        "from haystack.pipelines import ExtractiveQAPipeline\n",
        "\n",
        "pipe = ExtractiveQAPipeline(reader, retriever)"
      ]
    },
    {
      "cell_type": "markdown",
      "metadata": {
        "id": "UY613aN7Stwi"
      },
      "source": [
        "## Voilà! Ask a question!"
      ]
    },
    {
      "cell_type": "code",
      "execution_count": 14,
      "metadata": {
        "id": "HkAc1CRIStwk",
        "pycharm": {
          "is_executing": false
        }
      },
      "outputs": [
        {
          "name": "stderr",
          "output_type": "stream",
          "text": [
            "Inferencing Samples: 100%|██████████| 1/1 [00:00<00:00,  1.04 Batches/s]\n",
            "Inferencing Samples: 100%|██████████| 1/1 [00:00<00:00, 85.83 Batches/s]\n",
            "Inferencing Samples: 100%|██████████| 1/1 [00:00<00:00, 58.73 Batches/s]\n",
            "Inferencing Samples: 100%|██████████| 1/1 [00:00<00:00, 82.88 Batches/s]\n",
            "Inferencing Samples: 100%|██████████| 1/1 [00:00<00:00, 79.53 Batches/s]\n",
            "Inferencing Samples: 100%|██████████| 1/1 [00:00<00:00, 83.19 Batches/s]\n",
            "Inferencing Samples: 100%|██████████| 1/1 [00:00<00:00, 81.94 Batches/s]\n",
            "Inferencing Samples: 100%|██████████| 1/1 [00:00<00:00, 35.65 Batches/s]\n",
            "Inferencing Samples: 100%|██████████| 1/1 [00:00<00:00, 75.44 Batches/s]\n",
            "Inferencing Samples: 100%|██████████| 1/1 [00:00<00:00, 76.97 Batches/s]\n"
          ]
        }
      ],
      "source": [
        "# You can configure how many candidates the Reader and Retriever shall return\n",
        "# The higher top_k_retriever, the better (but also the slower) your answers.\n",
        "prediction = pipe.run(\n",
        "    query=\"Who is the father of Arya Stark?\", params={\"Retriever\": {\"top_k\": 10}, \"Reader\": {\"top_k\": 5}}\n",
        ")"
      ]
    },
    {
      "cell_type": "code",
      "execution_count": 15,
      "metadata": {
        "id": "3SMOSAoJStwk"
      },
      "outputs": [],
      "source": [
        "# prediction = pipe.run(query=\"Who created the Dothraki vocabulary?\", params={\"Reader\": {\"top_k\": 5}})\n",
        "# prediction = pipe.run(query=\"Who is the sister of Sansa?\", params={\"Reader\": {\"top_k\": 5}})"
      ]
    },
    {
      "cell_type": "code",
      "execution_count": 25,
      "metadata": {},
      "outputs": [
        {
          "name": "stderr",
          "output_type": "stream",
          "text": [
            "Inferencing Samples: 100%|██████████| 1/1 [00:00<00:00, 14.83 Batches/s]\n",
            "Inferencing Samples: 100%|██████████| 1/1 [00:00<00:00, 20.88 Batches/s]\n",
            "Inferencing Samples: 100%|██████████| 1/1 [00:00<00:00, 100.21 Batches/s]\n",
            "Inferencing Samples: 100%|██████████| 1/1 [00:00<00:00, 49.73 Batches/s]\n",
            "Inferencing Samples: 100%|██████████| 1/1 [00:00<00:00, 62.03 Batches/s]\n",
            "Inferencing Samples: 100%|██████████| 1/1 [00:00<00:00, 68.83 Batches/s]\n",
            "Inferencing Samples: 100%|██████████| 1/1 [00:00<00:00, 61.23 Batches/s]\n",
            "Inferencing Samples: 100%|██████████| 1/1 [00:00<00:00, 76.97 Batches/s]\n",
            "Inferencing Samples: 100%|██████████| 1/1 [00:00<00:00, 86.32 Batches/s]\n",
            "Inferencing Samples: 100%|██████████| 1/1 [00:00<00:00, 87.55 Batches/s]\n"
          ]
        }
      ],
      "source": [
        "# prediction = pipe.run(query=\"When Game of Thrones is premiered on television?\", params={\"Reader\": {\"top_k\": 5}})\n",
        "prediction = pipe.run(query=\"How Jon Snow resurrect?\", params={\"Reader\": {\"top_k\": 5}}) # Melisandre\n"
      ]
    },
    {
      "cell_type": "code",
      "execution_count": 26,
      "metadata": {
        "id": "qTZGg1fiStwk"
      },
      "outputs": [
        {
          "name": "stdout",
          "output_type": "stream",
          "text": [
            "{'answers': [<Answer {'answer': 'Melisandre', 'type': 'extractive', 'score': 0.9007251858711243, 'context': 'eased in November 2015 featured a bloodied Jon.\\nJon is resurrected by Melisandre in \"Home\", the May 2016 second episode of season 6. Though calling it', 'offsets_in_document': [{'start': 4681, 'end': 4691}], 'offsets_in_context': [{'start': 70, 'end': 80}], 'document_id': 'cc7975fa5efa74e721aeb297b3f9dd99', 'meta': {'name': '207_Jon_Snow__character_.txt'}}>,\n",
            "             <Answer {'answer': 'Melisandre', 'type': 'extractive', 'score': 0.8807501792907715, 'context': ' Black and force Alliser Thorne and his allies to surrender, allowing Melisandre to resurrect Jon Snow. Ramsay Bolton seizes Winterfell and the North ', 'offsets_in_document': [{'start': 302, 'end': 312}], 'offsets_in_context': [{'start': 70, 'end': 80}], 'document_id': '4050fd13309045119d4130575b6c4223', 'meta': {'name': '512_Home__Game_of_Thrones_.txt'}}>,\n",
            "             <Answer {'answer': 'Melisandre', 'type': 'extractive', 'score': 0.7671630680561066, 'context': \"ually possessing his direwolf's body or being brought back to life by Melisandre. When jokingly asked during a panel if Kit Harington would ever get t\", 'offsets_in_document': [{'start': 1931, 'end': 1941}], 'offsets_in_context': [{'start': 70, 'end': 80}], 'document_id': 'ec202ef2319119a568c5e50fa5f5d864', 'meta': {'name': '310_Mother_s_Mercy.txt'}}>,\n",
            "             <Answer {'answer': 'ritual', 'type': 'extractive', 'score': 0.18509000539779663, 'context': 'ages Melisandre to attempt to resurrect Jon in \"Home\", and although the ritual at first seems to fail, Jon suddenly awakens. After hanging Thorne, Oll', 'offsets_in_document': [{'start': 348, 'end': 354}], 'offsets_in_context': [{'start': 72, 'end': 78}], 'document_id': 'e7e38d72323247c706a1e410b2999259', 'meta': {'name': '207_Jon_Snow__character_.txt'}}>,\n",
            "             <Answer {'answer': 'Jon Snow has pledged his allegiance to her', 'type': 'extractive', 'score': 0.1709868535399437, 'context': ' Winterfell with Unsullied and Dothraki forces, after Jon Snow has pledged his allegiance to her. It also reunites Jon with his Stark siblings Bran an', 'offsets_in_document': [{'start': 341, 'end': 383}], 'offsets_in_context': [{'start': 54, 'end': 96}], 'document_id': '4e92aa10b61a55992b5f7090cdd30f1d', 'meta': {'name': '400_Winterfell__Game_of_Thrones_episode_.txt'}}>],\n",
            " 'documents': [<Document: {'content': '\"\\'\\'\\'Home\\'\\'\\'\" is the second episode of the sixth season of HBO\\'s fantasy television series \\'\\'Game of Thrones\\'\\', and the 52nd overall. The episode was written by Dave Hill and directed by Jeremy Podeswa.\\nThe Wildlings arrive at Castle Black and force Alliser Thorne and his allies to surrender, allowing Melisandre to resurrect Jon Snow. Ramsay Bolton seizes Winterfell and the North for himself; Tyrion Lannister unchains the dragons being held in the catacombs of Meereen; Arya Stark proceeds to the next step in her training; and Bran Stark sees the past.\\n\"Home\" received high praise from critics, citing the return of Jon Snow, the reintroduction of Bran Stark with the Three-eyed Raven, and the unexpected death of Roose Bolton, as high points in the episode. Filming of the episode\\'s closing scene, the director took inspiration from \\'\\'The Anatomy Lesson\\'\\'. In the United States, the episode premiere achieved a viewership of 7.29 million in its initial broadcast. The episode earned a nomination at the 68th Primetime Emmy Awards for Outstanding Cinematography for a Single-Camera Series.', 'content_type': 'text', 'score': 0.8029962848249019, 'meta': {'name': '512_Home__Game_of_Thrones_.txt'}, 'embedding': None, 'id': '4050fd13309045119d4130575b6c4223'}>,\n",
            "               <Document: {'content': '\\n===Overview===\\nKit Harington plays the role of Jon Snow in the television series.\\nMartin told \\'\\'Rolling Stone\\'\\' in 2014 that some early inquiries he received about adapting \\'\\'A Song of Ice and Fire\\'\\' suggested identifying the story\\'s \"important character\" and focusing on that individual plot line: Jon and Daenerys Targaryen being the two most popular choices. Martin was not interested in sacrificing so much of the overall story. When the pilot for the HBO adaptation went into production years later, one of the first parts cast was Jon, with Kit Harington announced in the role in July 2009. Alfie Allen and Iwan Rheon had also auditioned for the role, and were brought into the show to play Theon Greyjoy and Ramsay Snow instead, respectively. In October 2014, Harington and several other key cast members, all contracted for six seasons of the series, renegotiated their deals to include a potential seventh season and salary increases for seasons five, six, and seven. \\'\\'The Hollywood Reporter\\'\\' called the raises \"huge\", noting that the deal would make the performers \"among the highest-paid actors on cable TV\". \\'\\'Deadline Hollywood\\'\\' put the number for season five at \"close to $300,000 an episode\" for each actor, and \\'\\'The Hollywood Reporter\\'\\' wrote in June 2016 that the performers would each be paid \"upward of $500,000 per episode\" for seasons seven and the potential eight. In 2017, Harington became one of the highest paid actors on television and will earn £2\\xa0million per episode for the show.\\nThe costumes of Ygritte, Jon Snow, and  Tormund Giantsbane in the show\\nAs the series premiered, \\'\\'TV Guide\\'\\' called Harington a \"soulful heartthrob\" whose Jon is idolized by his younger siblings and who \"seeks purpose\" by joining the Night\\'s Watch. Creators David Benioff and D. B. Weiss later noted that Jon \"tries to live with honor, while knowing that honor often gets his family members murdered\". They explained that he is one of several characters in the series who must \"face hard truths about the world they live in, and adapt themselves to those truths. The struggle many of them face is how to do that without losing their grip on who they are.\" Matt Fowler of IGN wrote in 2013 that while Jon and Daenerys\\' storylines in season 1 and season 2 \"felt very separate\" from the rest of the series\\' plot, for the first time in season 3, \"Jon\\'s entire situation felt incorporated into the larger picture.\" Fowler also added that Jon\\'s \"oath-breaking romance with Ygritte added a lot of heat to the story\". In May 2015, \\'\\'International Business Times\\'\\' called Jon \"clearly the most popular character\" of the series.\\nIn a 2015 interview Benioff said, \"The problem with Jon is, he’s not a cautious man. It\\'s the problem with him, and also the reason we love him. He is a hero, but heroes are inherently incautious.\" Weiss added, \"At the end of the day, Jon is his father’s son, he’s a person who’s honorable to a fault and does the right thing even when the right thing is extremely dangerous to him personally.\" In the June 2015 season 5 finale \"Mother\\'s Mercy\", Jon is stabbed to death by Alliser Thorne and several men of the Night\\'s Watch after being labeled a traitor. With Martin\\'s 2011 novel \\'\\'A Dance with Dragons\\'\\' vague on Jon\\'s fate, Harington confirmed the character\\'s death in an interview with \\'\\'Entertainment Weekly\\'\\', saying \"I’ve been told I’m dead. I’m dead. I’m not coming back next season.\" He added, \"I loved how they brought the orphan boy Olly in to be the person who kills me. I love how the storyline with Thorne was wrapped up.\" Benioff also said of the episode:\\nWriting for \\'\\'The New York Times\\'\\', Jeremy Egner called Jon\\'s demise \"the biggest death on the show\" since Ned Stark\\'s beheading in season 1. Amid strong fan reaction over Jon\\'s death on social media, immediately following the episode journalists began theorizing how the show could resurrect the character. Nate Jones of Vulture.com noted:\\nA July 2015 sighting of Harington arriving in Belfast, a primary filming location for the series where other actors were arriving for season 6 script read-throughs, prompted further speculation about the character\\'s return. However, a story in \\'\\'Vanity Fair\\'\\' pointed out that Charles Dance had been seen in Belfast the previous year after his character Tywin Lannister\\'s death as well, and he only appeared in the first episode of the subsequent season as a corpse. Another photo that showed Harington on set in Belfast in a costume that varied from the Night\\'s Watch outfit was published on September 25, 2015. A season 6 \\'\\'Game of Thrones\\'\\' promotional poster released in November 2015 featured a bloodied Jon.\\nJon is resurrected by Melisandre in \"Home\", the May 2016 second episode of season 6. Though calling it a \"predictable move\" for a television series, David Sims of \\'\\'The Atlantic\\'\\' praised the plot development as \"the right choice\" for the show\\'s narrative. In a subsequent interview with \\'\\'Entertainment Weekly\\'\\', Harington said:\\nJoanna Robinson of \\'\\'Vanity Fair\\'\\' credited Jon\\'s much-discussed cliffhanger death as a primary factor behind \\'\\'Game of Thrones\\'\\' subsequent 25% ratings increase for season 6. Harington\\'s performance in season 6 earned the actor his first Primetime Emmy Award nomination in July 2016. Harington as Jon has the most screen time of any other character in the seven seasons released to date.', 'content_type': 'text', 'score': 0.7716134391516505, 'meta': {'name': '207_Jon_Snow__character_.txt'}, 'embedding': None, 'id': 'cc7975fa5efa74e721aeb297b3f9dd99'}>,\n",
            "               <Document: {'content': \"\\n===At the Wall===\\nDavos and the Night's Watch loyalists guarding Jon's body prepare themselves for battle when Thorne and his allies begin to break down the door. As they are about to break through, however, the outer gates of the Castle are breached by the giant Wun Wun, followed by Tormund Giantsbane, Edd, and an army of Wildlings. Outnumbered, the mutineers surrender and are locked in the cells on Edd's orders.\\nDavos pleads with Melisandre to attempt to resurrect Jon, reminding her of her previous miracles. Though Melisandre's faith has been shattered by Stannis Baratheon's defeat, she is reminded of her encounter with Thoros of Myr, and attempts a ritual, but seemingly to no avail. Defeated, Tormund, Melisandre, Edd and Davos leave the room. Shortly afterwards Jon awakens on the table.\", 'content_type': 'text', 'score': 0.7545576100463831, 'meta': {'name': '512_Home__Game_of_Thrones_.txt'}, 'embedding': None, 'id': '8e1acb79fbad70388874c11dea70723a'}>,\n",
            "               <Document: {'content': '\\n===Fate of Jon Snow===\\nD.B. Weiss discussed the decision to kill Jon Snow by saying that he felt the visual medium did not give him the freedom to leave Jon\\'s fate open: \"In a book, you can present that kind of ambiguity. In a show, everybody sees it for what it is. It’s that rule: \\'If we don\\'t see the body then they’re not really dead.\\' Like when we cut Ned’s head off, we didn’t want a gory Monty Python geyser of blood, but we needed to see the blade enter his neck and cut out on the frame where the blade was mid-neck. ... we needed Ned\\'s death to be totally unambiguous.\" Actor Kit Harington said of the scene, \"I loved it. I loved how they brought Olly in to be the person who kills me. I love how the storyline with Thorne was wrapped up.\"\\nAlthough Weiss meant the scene to be unambiguous, the episode left many viewers uncertain as to whether Jon Snow had been killed or merely injured (his fate in the novels is left unconfirmed as of \\'\\'A Dance with Dragons\\'\\', with much debate about Martin\\'s future intentions). Some of the confusion may be because, as reviewers have noted, Jon was killed in what can be seen as the middle of his story arc and his death does not have an obvious narrative purpose. For example, Nate Jones of \\'\\'Vulture\\'\\' notes, \"It\\'s easy to see what other characters\\' deaths meant for the series\\' sprawling narrative: Ned\\'s execution sent the Stark kids adrift in a universe where there was nobody looking out for them, while Robb\\'s murder was the final death knell for the hopes that the saga would ever have a traditional \\'happy\\' ending. What would be accomplished, narratively, by getting rid of Jon permanently right now?\" Both before and after these announcements, viewers have speculated that Jon Snow might have survived his stabbing and there are many fan theories on how he might have accomplished this, including spiritually possessing his direwolf\\'s body or being brought back to life by Melisandre. When jokingly asked during a panel if Kit Harington would ever get to play a warg (human who has possessed the body of an animal), Weiss replied with, \"Two words for you: Season 6.\" In July 2015, photos of Kit Harington arriving in Belfast—where the series is primarily filmed and where other actors are arriving for the Season 6 script read-throughs—surfaced, fueling speculation of his survival. However, Joanna Robinson of \\'\\'Vanity Fair\\'\\' pointed out that Charles Dance was seen at Belfast the previous year, and his character Tywin Lannister only appeared in the first episode of the subsequent season and only as a corpse, although Dance himself confirmed the nature of his role shortly after the announcement. Another photo that showed Harington on set in Belfast in a costume that varied from the Night\\'s Watch outfit was published on September 25, 2015.', 'content_type': 'text', 'score': 0.7490228563419862, 'meta': {'name': '310_Mother_s_Mercy.txt'}, 'embedding': None, 'id': 'ec202ef2319119a568c5e50fa5f5d864'}>,\n",
            "               <Document: {'content': '\\n===Filming===\\nDirector Jeremy Podeswa stated that he took inspiration from \\'\\'The Anatomy Lesson\\'\\' by Rembrandt for Jon Snow\\'s resurrection scene.\\n\"Home\" was directed by Jeremy Podeswa. He had previously directed the fifth season episodes \"Kill the Boy\" and \"Unbowed, Unbent, Unbroken\".\\nIn an interview following the airing of the episode, Podeswa stated about the scene in which Jon Snow is resurrected; \"I think just establishing the right amount of tension through the scene, so you really didn\\'t know up until the last second which way it was going to go. That was the biggest thing, creating a sense of mystery and magic around the whole thing. We really wanted that scene to be very beautiful, but also fraught with tension. That\\'s the main thing we were looking for.\" Podeswa also compared how he shot the scene to \\'\\'The Anatomy Lesson of Dr. Nicolaes Tulp\\'\\' by Rembrandt, continuing, \"It had a very rich, textual, moody, atmospheric quality. I think we were all in that space for a long time for this scene — while we were shooting all the scenes involving Jon Snow\\'s body, really, but particularly the one where he\\'s resurrected.\" In another interview Podeswa described how the resurrection would play out on screen, noting \"There was much discussion about what that actually was: There\\'s this sense of rebirth and whether it should be a big moment or a small moment. We tried a lot of different things, but it really felt to me, and I think we all agreed, this first gasp of life, like what a baby has when it\\'s born, is kind of what it needed to be. And I just thought he did that so great.\"\\nCarice van Houten, who portrays Melisandre, spoke about the resurrection, and how it was directed, mentioning \"It was such an important scene, we shot it from so many angles. I think I washed his body 50 times.\"', 'content_type': 'text', 'score': 0.7263546312697325, 'meta': {'name': '512_Home__Game_of_Thrones_.txt'}, 'embedding': None, 'id': 'ff08a0a058655d281e918f44218126c7'}>,\n",
            "               <Document: {'content': '\\n==== \\'\\'A Dance with Dragons\\'\\' ====\\nIn the dungeons of the Dreadfort, Ramsay has savagely tortured and mutilated Theon until he is so broken and in fear of Ramsay that he has adopted the identity of Reek. Ramsay coerces him to assist in lifting the Ironborn siege of Moat Cailin, subsequently reneging on his promise of safe passage to the Ironborn by having the garrison flayed. After Stannis Baratheon\\'s capture of Deepwood Motte, Ramsay\\'s wedding to \"Arya\" is moved from Barrowton to a rebuilt Winterfell. Following the wedding, Ramsay repeatedly abuses Jeyne. Shortly after the wedding, Jeyne and Theon escape with the help of Mance Rayder. Jon Snow later receives a letter from Ramsay claiming that he has captured Mance and killed Stannis Baratheon (who was besieging Winterfell), threatening to destroy the Night\\'s Watch if Jon does not deliver Theon, Jeyne, and several other members of Stannis\\' court to Ramsay as captives. It is not revealed how much of the letter is true or if Ramsay was its actual author, but the contents are enough to enrage Jon enough to decide to seek out and kill Ramsay instead, though he is stabbed by his own men before he can leave Castle Black.', 'content_type': 'text', 'score': 0.7154034579435417, 'meta': {'name': '487_Ramsay_Bolton.txt'}, 'embedding': None, 'id': 'a21fe7c04f3b3a5c1f45c03ec708d055'}>,\n",
            "               <Document: {'content': '\\n====Season 6====\\nIn \"The Red Woman\", Davos Seaworth, Dolorous Edd, and other brothers of the Watch loyal to Jon barricade themselves in a room with Ghost and Jon\\'s body, and an attack by Thorne and his men is thwarted by the arrival of Tormund and his wildlings. Davos encourages Melisandre to attempt to resurrect Jon in \"Home\", and although the ritual at first seems to fail, Jon suddenly awakens. After hanging Thorne, Olly, Bowen Marsh, and Othell Yarwyck for their treason in \"Oathbreaker\", Jon gives command of the Watch to Edd and prepares to leave Castle Black. In \"Book of the Stranger\", he is reunited with his half-sister Sansa Stark, who has fled her abusive husband Ramsay Bolton and now seeks Jon\\'s aid in crushing the Boltons. Jon is hesitant until a threatening message arrives from Ramsay demanding Sansa\\'s return and announcing Ramsay\\'s possession of their brother Rickon. Jon, Sansa, Davos, Tormund, and Brienne of Tarth set off to recruit an army to take back Winterfell and rescue Rickon from Ramsay in \"The Broken Man\", but their forces grow to only half the size of Bolton\\'s. As the armies face each other in \"Battle of the Bastards\", Ramsay lures Jon away from his allies by forcing Rickon to run the gap between them, only to fatally shoot Rickon in the back before he can make it across. With Jon being separated from his forces, Ramsay\\'s army closes in on him, but Jon\\'s allies reach him in time. A devastating battle ensues in which the outnumbered Stark forces are nearly slaughtered, until the Knights of the Vale from House Arryn arrive with Sansa and Petyr Baelish, and attack the Bolton army from the rear. Jon chases Ramsay back into Winterfell and beats him savagely, stopping before killing him. Sansa subsequently feeds Ramsay to his own hounds. In the season finale episode \"The Winds of Winter\", Bran Stark has a vision of the past which shows Ned reuniting with a dying Lyanna in the Tower of Joy. She makes him swear to protect her son Jon. Meanwhile, the Northern lords name Jon the King in the North.', 'content_type': 'text', 'score': 0.7122301602793929, 'meta': {'name': '207_Jon_Snow__character_.txt'}, 'embedding': None, 'id': 'e7e38d72323247c706a1e410b2999259'}>,\n",
            "               <Document: {'content': \"\\n==List of elements==\\nThe following table lists the locations shown in each episode's title sequence, in the order of their appearance in the sequence as determined by the first episode in which they are shown. The locations King's Landing, Winterfell, and The Wall are featured in every title sequence, as well as the most recent location in Essos (in the first 6 seasons), even if they are not present in that particular episode. It is also noteworthy that the appearance of Winterfell has changed over the seasons: in Seasons 3 and 4 Winterfell was covered in smoke, referencing its burning at the end of Season 2, and in Season 5 the smoke was removed but the Bolton sigil replaced the Stark sigil, reflecting how the Boltons moved to Winterfell during that season. In episode 6.10, the Stark sigil returned, the result of Jon Snow and Sansa Stark's reclaiming Winterfell from the Boltons at the end of the previous episode.\", 'content_type': 'text', 'score': 0.7094894016589772, 'meta': {'name': '130_Game_of_Thrones_title_sequence.txt'}, 'embedding': None, 'id': '509a0e1d659f57fbb311504d379b399c'}>,\n",
            "               <Document: {'content': '\\n====Fourth season====\\nWith the Ironborn holding Moat Cailin - the fortification barring passage between the North and the rest of Westeros - Roose is forced to smuggle himself back into the North. Upon his return to the Dreadfort, he chastises Ramsay for having gelded Theon and sending terms of surrender to the Greyjoys without his approval, while reminding Ramsay of his bastard parentage. Insulted, Ramsay demonstrates how effectively he has broken Theon (whom he has since renamed \"Reek\") by having Reek shave him, even after revealing Roose\\'s murder of Robb, while also coaxing Reek into revealing he faked the deaths of Bran and Rickon Stark. After Ramsay points out that the other Northerners will turn on the Boltons if it is revealed that there is a living male Stark, Roose tasks Locke with hunting down Bran and Rickon and killing Jon Snow, Robb\\'s bastard half-brother. Roose also sends Ramsay and Reek to lift the siege of Moat Cailin; when Ramsay is successful, Roose presents him with a royal decree of legitimisation as a trueborn Bolton. Roose subsequently moves to rebuild and occupy Winterfell.', 'content_type': 'text', 'score': 0.7022753505192497, 'meta': {'name': '340_Roose_Bolton.txt'}, 'embedding': None, 'id': '641ac061e895757ae21149e8b921c976'}>,\n",
            "               <Document: {'content': '\"\\'\\'\\'Winterfell\\'\\'\\'\" is the eighth season premiere episode of HBO\\'s fantasy television series \\'\\'Game of Thrones\\'\\', and the 68th overall. It was written by Dave Hill and directed by David Nutter. It aired on April 14, 2019.\\nThe episode centres on Daenerys Targaryen and Jon Snow arriving in Winterfell with Unsullied and Dothraki forces, after Jon Snow has pledged his allegiance to her. It also reunites Jon with his Stark siblings Bran and Arya for the first time since the first season\\'s second episode.\\n\"Winterfell\" received positive reception from critics, who listed Jon Snow and Daenerys\\'s arrival at Winterfell, Jon\\'s long-awaited reunion with Arya, the destruction of Last Hearth, Sam\\'s revelation to Jon Snow about his true lineage, Jaime and Bran\\'s tense encounter, and the performances of Sophie Turner and John Bradley as highlights of the episode. The episode received a Primetime Emmy Award nomination for Outstanding Single-Camera Picture Editing for a Drama Series and was Sophie Turner\\'s pick to support her nomination for Outstanding Supporting Actress in a Drama Series.', 'content_type': 'text', 'score': 0.7011069759719892, 'meta': {'name': '400_Winterfell__Game_of_Thrones_episode_.txt'}, 'embedding': None, 'id': '4e92aa10b61a55992b5f7090cdd30f1d'}>],\n",
            " 'no_ans_gap': 6.694451570510864,\n",
            " 'node_id': 'Reader',\n",
            " 'params': {'Reader': {'top_k': 5}},\n",
            " 'query': 'How Jon Snow resurrect?',\n",
            " 'root_node': 'Query'}\n"
          ]
        }
      ],
      "source": [
        "# Now you can either print the object directly...\n",
        "from pprint import pprint\n",
        "\n",
        "pprint(prediction)\n",
        "\n",
        "# Sample output:\n",
        "# {\n",
        "#     'answers': [ <Answer: answer='Eddard', type='extractive', score=0.9919578731060028, offsets_in_document=[{'start': 608, 'end': 615}], offsets_in_context=[{'start': 72, 'end': 79}], document_id='cc75f739897ecbf8c14657b13dda890e', meta={'name': '454_Music_of_Game_of_Thrones.txt'}}, context='...' >,\n",
        "#                  <Answer: answer='Ned', type='extractive', score=0.9767240881919861, offsets_in_document=[{'start': 3687, 'end': 3801}], offsets_in_context=[{'start': 18, 'end': 132}], document_id='9acf17ec9083c4022f69eb4a37187080', meta={'name': '454_Music_of_Game_of_Thrones.txt'}}, context='...' >,\n",
        "#                  ...\n",
        "#                ]\n",
        "#     'documents': [ <Document: content_type='text', score=0.8034909798951382, meta={'name': '332_Sansa_Stark.txt'}, embedding=None, id=d1f36ec7170e4c46cde65787fe125dfe', content='\\n===\\'\\'A Game of Thrones\\'\\'===\\nSansa Stark begins the novel by being betrothed to Crown ...'>,\n",
        "#                    <Document: content_type='text', score=0.8002150354529785, meta={'name': '191_Gendry.txt'}, embedding=None, id='dd4e070a22896afa81748d6510006d2', 'content='\\n===Season 2===\\nGendry travels North with Yoren and other Night's Watch recruits, including Arya ...'>,\n",
        "#                    ...\n",
        "#                  ],\n",
        "#     'no_ans_gap':  11.688868522644043,\n",
        "#     'node_id': 'Reader',\n",
        "#     'params': {'Reader': {'top_k': 5}, 'Retriever': {'top_k': 5}},\n",
        "#     'query': 'Who is the father of Arya Stark?',\n",
        "#     'root_node': 'Query'\n",
        "# }"
      ]
    },
    {
      "cell_type": "code",
      "execution_count": 27,
      "metadata": {
        "id": "YctMbGHoStwl",
        "pycharm": {
          "is_executing": false,
          "name": "#%%\n"
        }
      },
      "outputs": [
        {
          "name": "stdout",
          "output_type": "stream",
          "text": [
            "\n",
            "Query: How Jon Snow resurrect?\n",
            "Answers:\n",
            "[   {   'answer': 'Melisandre',\n",
            "        'context': 'eased in November 2015 featured a bloodied Jon.\\n'\n",
            "                   'Jon is resurrected by Melisandre in \"Home\", the May 2016 '\n",
            "                   'second episode of season 6. Though calling it'},\n",
            "    {   'answer': 'Melisandre',\n",
            "        'context': ' Black and force Alliser Thorne and his allies to '\n",
            "                   'surrender, allowing Melisandre to resurrect Jon Snow. '\n",
            "                   'Ramsay Bolton seizes Winterfell and the North '},\n",
            "    {   'answer': 'Melisandre',\n",
            "        'context': \"ually possessing his direwolf's body or being brought back \"\n",
            "                   'to life by Melisandre. When jokingly asked during a panel '\n",
            "                   'if Kit Harington would ever get t'},\n",
            "    {   'answer': 'ritual',\n",
            "        'context': 'ages Melisandre to attempt to resurrect Jon in \"Home\", and '\n",
            "                   'although the ritual at first seems to fail, Jon suddenly '\n",
            "                   'awakens. After hanging Thorne, Oll'},\n",
            "    {   'answer': 'Jon Snow has pledged his allegiance to her',\n",
            "        'context': ' Winterfell with Unsullied and Dothraki forces, after Jon '\n",
            "                   'Snow has pledged his allegiance to her. It also reunites '\n",
            "                   'Jon with his Stark siblings Bran an'}]\n"
          ]
        }
      ],
      "source": [
        "# ...or use a util to simplify the output\n",
        "# Change `minimum` to `medium` or `all` to raise the level of detail\n",
        "print_answers(prediction, details=\"minimum\")"
      ]
    },
    {
      "cell_type": "markdown",
      "metadata": {
        "collapsed": false,
        "id": "RWdd-0XlStwm",
        "pycharm": {
          "name": "#%% md\n"
        }
      },
      "source": [
        "## About us\n",
        "\n",
        "This [Haystack](https://github.com/deepset-ai/haystack/) notebook was made with love by [deepset](https://deepset.ai/) in Berlin, Germany\n",
        "\n",
        "We bring NLP to the industry via open source!  \n",
        "Our focus: Industry specific language models & large scale QA systems.  \n",
        "  \n",
        "Some of our other work: \n",
        "- [German BERT](https://deepset.ai/german-bert)\n",
        "- [GermanQuAD and GermanDPR](https://deepset.ai/germanquad)\n",
        "- [FARM](https://github.com/deepset-ai/FARM)\n",
        "\n",
        "Get in touch:\n",
        "[Twitter](https://twitter.com/deepset_ai) | [LinkedIn](https://www.linkedin.com/company/deepset-ai/) | [Slack](https://haystack.deepset.ai/community/join) | [GitHub Discussions](https://github.com/deepset-ai/haystack/discussions) | [Website](https://deepset.ai)\n",
        "\n",
        "By the way: [we're hiring!](https://www.deepset.ai/jobs)\n"
      ]
    }
  ],
  "metadata": {
    "accelerator": "GPU",
    "colab": {
      "provenance": []
    },
    "gpuClass": "standard",
    "kernelspec": {
      "display_name": "Python 3.9.12 ('cs')",
      "language": "python",
      "name": "python3"
    },
    "language_info": {
      "codemirror_mode": {
        "name": "ipython",
        "version": 3
      },
      "file_extension": ".py",
      "mimetype": "text/x-python",
      "name": "python",
      "nbconvert_exporter": "python",
      "pygments_lexer": "ipython3",
      "version": "3.9.13"
    },
    "vscode": {
      "interpreter": {
        "hash": "55c32488f353abc2b13345a23781747ce65d605694f52cfcaabea58a42e43ffa"
      }
    }
  },
  "nbformat": 4,
  "nbformat_minor": 0
}
