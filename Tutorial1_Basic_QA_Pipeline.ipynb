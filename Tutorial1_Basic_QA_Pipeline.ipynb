{
  "cells": [
    {
      "cell_type": "markdown",
      "metadata": {
        "id": "6qan2sHFStwU"
      },
      "source": [
        "# Build Your First QA System\n",
        "\n",
        "<img style=\"float: right;\" src=\"https://upload.wikimedia.org/wikipedia/en/d/d8/Game_of_Thrones_title_card.jpg\">\n",
        "\n",
        "[![Open In Colab](https://colab.research.google.com/assets/colab-badge.svg)](https://colab.research.google.com/github/deepset-ai/haystack/blob/main/tutorials/Tutorial1_Basic_QA_Pipeline.ipynb)\n",
        "\n",
        "Question Answering can be used in a variety of use cases. A very common one:  Using it to navigate through complex knowledge bases or long documents (\"search setting\").\n",
        "\n",
        "A \"knowledge base\" could for example be your website, an internal wiki or a collection of financial reports. \n",
        "In this tutorial we will work on a slightly different domain: \"Game of Thrones\". \n",
        "\n",
        "Let's see how we can use a bunch of Wikipedia articles to answer a variety of questions about the \n",
        "marvellous seven kingdoms.\n"
      ]
    },
    {
      "cell_type": "markdown",
      "metadata": {
        "collapsed": false,
        "id": "RK2uDE5pStwZ"
      },
      "source": [
        "### Prepare environment\n",
        "\n",
        "#### Colab: Enable the GPU runtime\n",
        "Make sure you enable the GPU runtime to experience decent speed in this tutorial.\n",
        "**Runtime -> Change Runtime type -> Hardware accelerator -> GPU**\n",
        "\n",
        "<img src=\"https://raw.githubusercontent.com/deepset-ai/haystack/main/docs/img/colab_gpu_runtime.jpg\">"
      ]
    },
    {
      "cell_type": "code",
      "execution_count": 1,
      "metadata": {
        "colab": {
          "base_uri": "https://localhost:8080/"
        },
        "id": "mTWCxSYsStwZ",
        "outputId": "85b0497a-ff7f-4175-ef1d-9465ceb3c88e",
        "pycharm": {
          "name": "#%%\n"
        }
      },
      "outputs": [],
      "source": [
        "# Make sure you have a GPU running\n",
        "# !nvidia-smi"
      ]
    },
    {
      "cell_type": "code",
      "execution_count": 2,
      "metadata": {
        "colab": {
          "base_uri": "https://localhost:8080/"
        },
        "id": "KYiLMAQFStwa",
        "outputId": "83bb03e1-ca65-43c8-f6ca-c0d52114e9ea"
      },
      "outputs": [],
      "source": [
        "# Install the latest release of Haystack in your own environment\n",
        "#! pip install farm-haystack\n",
        "\n",
        "# Install the latest main of Haystack\n",
        "# !pip install --upgrade pip\n",
        "# !pip install git+https://github.com/deepset-ai/haystack.git#egg=farm-haystack[colab]"
      ]
    },
    {
      "cell_type": "markdown",
      "metadata": {
        "collapsed": false,
        "id": "tuVU3A0eStwb",
        "pycharm": {
          "name": "#%% md\n"
        }
      },
      "source": [
        "## Logging\n",
        "\n",
        "We configure how logging messages should be displayed and which log level should be used before importing Haystack.\n",
        "Example log message:\n",
        "INFO - haystack.utils.preprocessing -  Converting data/tutorial1/218_Olenna_Tyrell.txt\n",
        "Default log level in basicConfig is WARNING so the explicit parameter is not necessary but can be changed easily:"
      ]
    },
    {
      "cell_type": "code",
      "execution_count": 3,
      "metadata": {
        "id": "PdIMHrABStwb",
        "pycharm": {
          "name": "#%%\n"
        }
      },
      "outputs": [],
      "source": [
        "import logging\n",
        "\n",
        "logging.basicConfig(format=\"%(levelname)s - %(name)s -  %(message)s\", level=logging.WARNING)\n",
        "logging.getLogger(\"haystack\").setLevel(logging.INFO)"
      ]
    },
    {
      "cell_type": "code",
      "execution_count": 4,
      "metadata": {
        "id": "ZYe1NvPYStwc",
        "pycharm": {
          "name": "#%%\n"
        }
      },
      "outputs": [
        {
          "name": "stderr",
          "output_type": "stream",
          "text": [
            "/home/iknow/anaconda3/envs/cs/lib/python3.9/site-packages/tqdm/auto.py:22: TqdmWarning: IProgress not found. Please update jupyter and ipywidgets. See https://ipywidgets.readthedocs.io/en/stable/user_install.html\n",
            "  from .autonotebook import tqdm as notebook_tqdm\n"
          ]
        }
      ],
      "source": [
        "from haystack.utils import clean_wiki_text, convert_files_to_docs, fetch_archive_from_http, print_answers\n",
        "from haystack.nodes import FARMReader, TransformersReader"
      ]
    },
    {
      "cell_type": "markdown",
      "metadata": {
        "id": "YNwziO6UStwd"
      },
      "source": [
        "## Document Store\n",
        "\n",
        "Haystack finds answers to queries within the documents stored in a `DocumentStore`. The current implementations of `DocumentStore` include `ElasticsearchDocumentStore`, `FAISSDocumentStore`,  `SQLDocumentStore`, and `InMemoryDocumentStore`.\n",
        "\n",
        "**Here:** We recommended Elasticsearch as it comes preloaded with features like [full-text queries](https://www.elastic.co/guide/en/elasticsearch/reference/current/full-text-queries.html), [BM25 retrieval](https://www.elastic.co/elasticon/conf/2016/sf/improved-text-scoring-with-bm25), and [vector storage for text embeddings](https://www.elastic.co/guide/en/elasticsearch/reference/7.6/dense-vector.html).\n",
        "\n",
        "**Alternatives:** If you are unable to setup an Elasticsearch instance, then follow the [Tutorial 3](https://github.com/deepset-ai/haystack/blob/main/tutorials/Tutorial3_Basic_QA_Pipeline_without_Elasticsearch.ipynb) for using SQL/InMemory document stores.\n",
        "\n",
        "**Hint**: This tutorial creates a new document store instance with Wikipedia articles on Game of Thrones. However, you can configure Haystack to work with your existing document stores.\n",
        "\n",
        "### Start an Elasticsearch server\n",
        "You can start Elasticsearch on your local machine instance using Docker. If Docker is not readily available in your environment (e.g. in Colab notebooks), then you can manually download and execute Elasticsearch from source."
      ]
    },
    {
      "cell_type": "code",
      "execution_count": 5,
      "metadata": {
        "id": "vIyW0tNsStwd"
      },
      "outputs": [],
      "source": [
        "# Recommended: Start Elasticsearch using Docker via the Haystack utility function\n",
        "from haystack.utils import launch_es\n",
        "\n",
        "launch_es()"
      ]
    },
    {
      "cell_type": "code",
      "execution_count": 6,
      "metadata": {
        "id": "pqVuIYu6Stwe"
      },
      "outputs": [],
      "source": [
        "# # In Colab / No Docker environments: Start Elasticsearch from source\n",
        "# ! wget https://artifacts.elastic.co/downloads/elasticsearch/elasticsearch-7.9.2-linux-x86_64.tar.gz -q\n",
        "# ! tar -xzf elasticsearch-7.9.2-linux-x86_64.tar.gz\n",
        "# ! chown -R daemon:daemon elasticsearch-7.9.2\n",
        "\n",
        "# import os\n",
        "# from subprocess import Popen, PIPE, STDOUT\n",
        "\n",
        "# es_server = Popen(\n",
        "#     [\"elasticsearch-7.9.2/bin/elasticsearch\"], stdout=PIPE, stderr=STDOUT, preexec_fn=lambda: os.setuid(1)  # as daemon\n",
        "# )\n",
        "# # wait until ES has started\n",
        "# ! sleep 30"
      ]
    },
    {
      "cell_type": "code",
      "execution_count": 7,
      "metadata": {
        "id": "Z887xz1VStwf",
        "pycharm": {
          "name": "#%%\n"
        }
      },
      "outputs": [],
      "source": [
        "# Connect to Elasticsearch\n",
        "\n",
        "from haystack.document_stores import ElasticsearchDocumentStore\n",
        "\n",
        "document_store = ElasticsearchDocumentStore(host=\"localhost\", username=\"\", password=\"\", index=\"document\")"
      ]
    },
    {
      "cell_type": "markdown",
      "metadata": {
        "id": "v-8BwGL7Stwf",
        "pycharm": {
          "name": "#%% md\n"
        }
      },
      "source": [
        "## Preprocessing of documents\n",
        "\n",
        "Haystack provides a customizable pipeline for:\n",
        " - converting files into texts\n",
        " - cleaning texts\n",
        " - splitting texts\n",
        " - writing them to a Document Store\n",
        "\n",
        "In this tutorial, we download Wikipedia articles about Game of Thrones, apply a basic cleaning function, and index them in Elasticsearch."
      ]
    },
    {
      "cell_type": "code",
      "execution_count": 8,
      "metadata": {
        "id": "PFGKJ_OLStwg",
        "pycharm": {
          "name": "#%%\n"
        }
      },
      "outputs": [
        {
          "name": "stderr",
          "output_type": "stream",
          "text": [
            "INFO - haystack.utils.import_utils -  Found data stored in `data/tutorial1`. Delete this first if you really want to fetch new data.\n",
            "INFO - haystack.utils.preprocessing -  Converting data/tutorial1/51_Iron_Throne__A_Song_of_Ice_and_Fire_.txt\n",
            "INFO - haystack.utils.preprocessing -  Converting data/tutorial1/454_Music_of_Game_of_Thrones.txt\n",
            "INFO - haystack.utils.preprocessing -  Converting data/tutorial1/22_The_Rains_of_Castamere__song_.txt\n",
            "INFO - haystack.utils.preprocessing -  Converting data/tutorial1/39_Renly_Baratheon.txt\n",
            "INFO - haystack.utils.preprocessing -  Converting data/tutorial1/148_Game_of_Thrones__Winter_Is_Coming.txt\n",
            "INFO - haystack.utils.preprocessing -  Converting data/tutorial1/199_A_Storm_of_Swords.txt\n",
            "INFO - haystack.utils.preprocessing -  Converting data/tutorial1/191_Gendry.txt\n",
            "INFO - haystack.utils.preprocessing -  Converting data/tutorial1/134_Game_of_Thrones__Season_6__soundtrack_.txt\n",
            "INFO - haystack.utils.preprocessing -  Converting data/tutorial1/508_A_Game_of_Thrones__Second_Edition__card_game_.txt\n",
            "INFO - haystack.utils.preprocessing -  Converting data/tutorial1/8_Eastwatch.txt\n",
            "INFO - haystack.utils.preprocessing -  Converting data/tutorial1/193_Lord_Snow.txt\n",
            "INFO - haystack.utils.preprocessing -  Converting data/tutorial1/485_Oathkeeper.txt\n",
            "INFO - haystack.utils.preprocessing -  Converting data/tutorial1/154_Margaery_Tyrell.txt\n",
            "INFO - haystack.utils.preprocessing -  Converting data/tutorial1/27_Game_of_Thrones__Season_4__soundtrack_.txt\n",
            "INFO - haystack.utils.preprocessing -  Converting data/tutorial1/395_Game_of_Thrones__season_5_.txt\n",
            "INFO - haystack.utils.preprocessing -  Converting data/tutorial1/450_Baelor.txt\n",
            "INFO - haystack.utils.preprocessing -  Converting data/tutorial1/127_The_Climb__Game_of_Thrones_.txt\n",
            "INFO - haystack.utils.preprocessing -  Converting data/tutorial1/69_The_Red_Woman.txt\n",
            "INFO - haystack.utils.preprocessing -  Converting data/tutorial1/368_Jaime_Lannister.txt\n",
            "INFO - haystack.utils.preprocessing -  Converting data/tutorial1/443_The_Kingsroad.txt\n",
            "INFO - haystack.utils.preprocessing -  Converting data/tutorial1/477_A_Dance_with_Dragons.txt\n",
            "INFO - haystack.utils.preprocessing -  Converting data/tutorial1/25_Game_of_Thrones__Season_2__soundtrack_.txt\n",
            "INFO - haystack.utils.preprocessing -  Converting data/tutorial1/401_Power_Is_Power.txt\n",
            "INFO - haystack.utils.preprocessing -  Converting data/tutorial1/495_Hodor.txt\n",
            "INFO - haystack.utils.preprocessing -  Converting data/tutorial1/369_Samwell_Tarly.txt\n",
            "INFO - haystack.utils.preprocessing -  Converting data/tutorial1/262_Gilly__character_.txt\n",
            "INFO - haystack.utils.preprocessing -  Converting data/tutorial1/2_Stormborn.txt\n",
            "INFO - haystack.utils.preprocessing -  Converting data/tutorial1/217_The_Rogue_Prince.txt\n",
            "INFO - haystack.utils.preprocessing -  Converting data/tutorial1/210_The_Mountain_and_the_Viper.txt\n",
            "INFO - haystack.utils.preprocessing -  Converting data/tutorial1/402_A_Knight_of_the_Seven_Kingdoms__Game_of_Thrones_.txt\n",
            "INFO - haystack.utils.preprocessing -  Converting data/tutorial1/446_A_Golden_Crown.txt\n",
            "INFO - haystack.utils.preprocessing -  Converting data/tutorial1/330_Oberyn_Martell.txt\n",
            "INFO - haystack.utils.preprocessing -  Converting data/tutorial1/84_List_of_awards_and_nominations_received_by_Game_of_Thrones.txt\n",
            "INFO - haystack.utils.preprocessing -  Converting data/tutorial1/211_The_Watchers_on_the_Wall.txt\n",
            "INFO - haystack.utils.preprocessing -  Converting data/tutorial1/349_List_of_Game_of_Thrones_characters.txt\n",
            "INFO - haystack.utils.preprocessing -  Converting data/tutorial1/224_The_Night_Lands.txt\n",
            "INFO - haystack.utils.preprocessing -  Converting data/tutorial1/340_Roose_Bolton.txt\n",
            "INFO - haystack.utils.preprocessing -  Converting data/tutorial1/396_Game_of_Thrones__season_6_.txt\n",
            "INFO - haystack.utils.preprocessing -  Converting data/tutorial1/73_A_Man_Without_Honor.txt\n",
            "INFO - haystack.utils.preprocessing -  Converting data/tutorial1/420_Blood_of_My_Blood.txt\n",
            "INFO - haystack.utils.preprocessing -  Converting data/tutorial1/480_Varys.txt\n",
            "INFO - haystack.utils.preprocessing -  Converting data/tutorial1/511_After_the_Thrones.txt\n",
            "INFO - haystack.utils.preprocessing -  Converting data/tutorial1/160_Viserys_Targaryen.txt\n",
            "INFO - haystack.utils.preprocessing -  Converting data/tutorial1/444_Cripples__Bastards__and_Broken_Things.txt\n",
            "INFO - haystack.utils.preprocessing -  Converting data/tutorial1/121_The_Bear_and_the_Maiden_Fair.txt\n",
            "INFO - haystack.utils.preprocessing -  Converting data/tutorial1/54_Two_Swords__Game_of_Thrones_.txt\n",
            "INFO - haystack.utils.preprocessing -  Converting data/tutorial1/410_The_Bells__Game_of_Thrones_.txt\n",
            "INFO - haystack.utils.preprocessing -  Converting data/tutorial1/481_Sandor_Clegane.txt\n",
            "INFO - haystack.utils.preprocessing -  Converting data/tutorial1/232_Tommen_Baratheon.txt\n",
            "INFO - haystack.utils.preprocessing -  Converting data/tutorial1/202_A_Feast_for_Crows.txt\n",
            "INFO - haystack.utils.preprocessing -  Converting data/tutorial1/126_Kissed_by_Fire.txt\n",
            "INFO - haystack.utils.preprocessing -  Converting data/tutorial1/233_Myrcella_Baratheon.txt\n",
            "INFO - haystack.utils.preprocessing -  Converting data/tutorial1/129_Second_Sons.txt\n",
            "INFO - haystack.utils.preprocessing -  Converting data/tutorial1/151_Ellaria_Sand.txt\n",
            "INFO - haystack.utils.preprocessing -  Converting data/tutorial1/367_Gregor_Clegane.txt\n",
            "INFO - haystack.utils.preprocessing -  Converting data/tutorial1/408_The_Last_of_the_Starks.txt\n",
            "INFO - haystack.utils.preprocessing -  Converting data/tutorial1/360_List_of_Game_of_Thrones_episodes.txt\n",
            "INFO - haystack.utils.preprocessing -  Converting data/tutorial1/28_Jorah_Mormont.txt\n",
            "INFO - haystack.utils.preprocessing -  Converting data/tutorial1/343_Catelyn_Stark.txt\n",
            "INFO - haystack.utils.preprocessing -  Converting data/tutorial1/474_Bronn__character_.txt\n",
            "INFO - haystack.utils.preprocessing -  Converting data/tutorial1/334_Rickon_Stark.txt\n",
            "INFO - haystack.utils.preprocessing -  Converting data/tutorial1/475_A_Game_of_Thrones__role-playing_game_.txt\n",
            "INFO - haystack.utils.preprocessing -  Converting data/tutorial1/447_You_Win_or_You_Die.txt\n",
            "INFO - haystack.utils.preprocessing -  Converting data/tutorial1/456_Works_based_on_A_Song_of_Ice_and_Fire.txt\n",
            "INFO - haystack.utils.preprocessing -  Converting data/tutorial1/67_Unbowed__Unbent__Unbroken.txt\n",
            "INFO - haystack.utils.preprocessing -  Converting data/tutorial1/515_The_Door__Game_of_Thrones_.txt\n",
            "INFO - haystack.utils.preprocessing -  Converting data/tutorial1/201_A_Game_of_Thrones__card_game_.txt\n",
            "INFO - haystack.utils.preprocessing -  Converting data/tutorial1/20_Light_of_the_Seven.txt\n",
            "INFO - haystack.utils.preprocessing -  Converting data/tutorial1/488_Brienne_of_Tarth.txt\n",
            "INFO - haystack.utils.preprocessing -  Converting data/tutorial1/102_The_Princess_and_the_Queen.txt\n",
            "INFO - haystack.utils.preprocessing -  Converting data/tutorial1/304_Hardhome.txt\n",
            "INFO - haystack.utils.preprocessing -  Converting data/tutorial1/263_Tormund_Giantsbane.txt\n",
            "INFO - haystack.utils.preprocessing -  Converting data/tutorial1/482_Petyr_Baelish.txt\n",
            "INFO - haystack.utils.preprocessing -  Converting data/tutorial1/345_A_Game_of_Thrones__comics_.txt\n",
            "INFO - haystack.utils.preprocessing -  Converting data/tutorial1/85_Game_of_Thrones__Seven_Kingdoms.txt\n",
            "INFO - haystack.utils.preprocessing -  Converting data/tutorial1/77_Game_of_Thrones_Ascent.txt\n",
            "INFO - haystack.utils.preprocessing -  Converting data/tutorial1/68_The_Gift__Game_of_Thrones_.txt\n",
            "INFO - haystack.utils.preprocessing -  Converting data/tutorial1/1_Dragonstone__Game_of_Thrones_episode_.txt\n",
            "INFO - haystack.utils.preprocessing -  Converting data/tutorial1/452_Fire_and_Blood__Game_of_Thrones_.txt\n",
            "INFO - haystack.utils.preprocessing -  Converting data/tutorial1/74_The_Prince_of_Winterfell.txt\n",
            "INFO - haystack.utils.preprocessing -  Converting data/tutorial1/209_Mockingbird__Game_of_Thrones_.txt\n",
            "INFO - haystack.utils.preprocessing -  Converting data/tutorial1/57_The_Laws_of_Gods_and_Men.txt\n",
            "INFO - haystack.utils.preprocessing -  Converting data/tutorial1/365_A_Song_of_Ice_and_Fire_Roleplaying.txt\n",
            "INFO - haystack.utils.preprocessing -  Converting data/tutorial1/439_Melisandre.txt\n",
            "INFO - haystack.utils.preprocessing -  Converting data/tutorial1/487_Ramsay_Bolton.txt\n",
            "INFO - haystack.utils.preprocessing -  Converting data/tutorial1/504_List_of_A_Song_of_Ice_and_Fire_video_games.txt\n",
            "INFO - haystack.utils.preprocessing -  Converting data/tutorial1/33_David_Benioff.txt\n",
            "INFO - haystack.utils.preprocessing -  Converting data/tutorial1/299_Rani_Mahal__TV_series_.txt\n",
            "INFO - haystack.utils.preprocessing -  Converting data/tutorial1/118_Dark_Wings__Dark_Words.txt\n",
            "INFO - haystack.utils.preprocessing -  Converting data/tutorial1/341_Ned_Stark.txt\n",
            "INFO - haystack.utils.preprocessing -  Converting data/tutorial1/394_Game_of_Thrones__2014_video_game_.txt\n",
            "INFO - haystack.utils.preprocessing -  Converting data/tutorial1/21_The_Bear_and_the_Maiden_Fair__song_.txt\n",
            "INFO - haystack.utils.preprocessing -  Converting data/tutorial1/310_Mother_s_Mercy.txt\n",
            "INFO - haystack.utils.preprocessing -  Converting data/tutorial1/228_Souad_Faress.txt\n",
            "INFO - haystack.utils.preprocessing -  Converting data/tutorial1/23_Game_of_Thrones_Live_Concert_Experience.txt\n",
            "INFO - haystack.utils.preprocessing -  Converting data/tutorial1/98_Black_Friday__South_Park_.txt\n",
            "INFO - haystack.utils.preprocessing -  Converting data/tutorial1/400_Winterfell__Game_of_Thrones_episode_.txt\n",
            "INFO - haystack.utils.preprocessing -  Converting data/tutorial1/424_Night_King.txt\n",
            "INFO - haystack.utils.preprocessing -  Converting data/tutorial1/198_A_Clash_of_Kings.txt\n",
            "INFO - haystack.utils.preprocessing -  Converting data/tutorial1/317_The_Broken_Man.txt\n",
            "INFO - haystack.utils.preprocessing -  Converting data/tutorial1/86_Game_of_Thrones__season_4_.txt\n",
            "INFO - haystack.utils.preprocessing -  Converting data/tutorial1/56_First_of_His_Name.txt\n",
            "INFO - haystack.utils.preprocessing -  Converting data/tutorial1/43_Arya_Stark.txt\n",
            "INFO - haystack.utils.preprocessing -  Converting data/tutorial1/514_Book_of_the_Stranger.txt\n",
            "INFO - haystack.utils.preprocessing -  Converting data/tutorial1/101_Titties_and_Dragons.txt\n",
            "INFO - haystack.utils.preprocessing -  Converting data/tutorial1/371_Cersei_Lannister.txt\n",
            "INFO - haystack.utils.preprocessing -  Converting data/tutorial1/52_Catch_the_Throne.txt\n",
            "INFO - haystack.utils.preprocessing -  Converting data/tutorial1/311_Game_of_Thrones__season_7_.txt\n",
            "INFO - haystack.utils.preprocessing -  Converting data/tutorial1/78_The_Rains_of_Castamere.txt\n",
            "INFO - haystack.utils.preprocessing -  Converting data/tutorial1/512_Home__Game_of_Thrones_.txt\n",
            "INFO - haystack.utils.preprocessing -  Converting data/tutorial1/403_Jenny_of_Oldstones.txt\n",
            "INFO - haystack.utils.preprocessing -  Converting data/tutorial1/373_Tywin_Lannister.txt\n",
            "INFO - haystack.utils.preprocessing -  Converting data/tutorial1/30_List_of_A_Song_of_Ice_and_Fire_characters.txt\n",
            "INFO - haystack.utils.preprocessing -  Converting data/tutorial1/0_Game_of_Thrones__season_8_.txt\n",
            "INFO - haystack.utils.preprocessing -  Converting data/tutorial1/87_Valar_Dohaeris.txt\n",
            "INFO - haystack.utils.preprocessing -  Converting data/tutorial1/378_A_Game_of_Thrones__board_game_.txt\n",
            "INFO - haystack.utils.preprocessing -  Converting data/tutorial1/435_White_Walker.txt\n",
            "INFO - haystack.utils.preprocessing -  Converting data/tutorial1/445_The_Wolf_and_the_Lion.txt\n",
            "INFO - haystack.utils.preprocessing -  Converting data/tutorial1/358_A_Game_of_Thrones__Genesis.txt\n",
            "INFO - haystack.utils.preprocessing -  Converting data/tutorial1/24_Game_of_Thrones__Season_1__soundtrack_.txt\n",
            "INFO - haystack.utils.preprocessing -  Converting data/tutorial1/76_Valar_Morghulis.txt\n",
            "INFO - haystack.utils.preprocessing -  Converting data/tutorial1/207_Jon_Snow__character_.txt\n",
            "INFO - haystack.utils.preprocessing -  Converting data/tutorial1/80_A_Song_of_Ice_and_Fire_fandom.txt\n",
            "INFO - haystack.utils.preprocessing -  Converting data/tutorial1/75_Blackwater__Game_of_Thrones_.txt\n",
            "INFO - haystack.utils.preprocessing -  Converting data/tutorial1/407_The_Long_Night__Game_of_Thrones_.txt\n",
            "INFO - haystack.utils.preprocessing -  Converting data/tutorial1/146_The_Sons_of_the_Dragon.txt\n",
            "INFO - haystack.utils.preprocessing -  Converting data/tutorial1/195_World_of_A_Song_of_Ice_and_Fire.txt\n",
            "INFO - haystack.utils.preprocessing -  Converting data/tutorial1/197_A_Game_of_Thrones.txt\n",
            "INFO - haystack.utils.preprocessing -  Converting data/tutorial1/229_Game_of_Thrones.txt\n",
            "INFO - haystack.utils.preprocessing -  Converting data/tutorial1/342_Theon_Greyjoy.txt\n",
            "INFO - haystack.utils.preprocessing -  Converting data/tutorial1/461_The_Winds_of_Winter__Game_of_Thrones_.txt\n",
            "INFO - haystack.utils.preprocessing -  Converting data/tutorial1/399_For_the_Throne__Music_Inspired_by_the_HBO_Series_Game_of_Thrones.txt\n",
            "INFO - haystack.utils.preprocessing -  Converting data/tutorial1/460_Battle_of_the_Bastards.txt\n",
            "INFO - haystack.utils.preprocessing -  Converting data/tutorial1/130_Game_of_Thrones_title_sequence.txt\n",
            "INFO - haystack.utils.preprocessing -  Converting data/tutorial1/11_The_Dragon_and_the_Wolf.txt\n",
            "INFO - haystack.utils.preprocessing -  Converting data/tutorial1/135_Game_of_Thrones__Season_7__soundtrack_.txt\n",
            "INFO - haystack.utils.preprocessing -  Converting data/tutorial1/26_Game_of_Thrones__Season_3__soundtrack_.txt\n",
            "INFO - haystack.utils.preprocessing -  Converting data/tutorial1/99_A_Song_of_Ass_and_Fire.txt\n",
            "INFO - haystack.utils.preprocessing -  Converting data/tutorial1/120_And_Now_His_Watch_Is_Ended.txt\n",
            "INFO - haystack.utils.preprocessing -  Converting data/tutorial1/442_Game_of_Thrones__season_1_.txt\n",
            "INFO - haystack.utils.preprocessing -  Converting data/tutorial1/449_The_Pointy_End.txt\n",
            "INFO - haystack.utils.preprocessing -  Converting data/tutorial1/347_Game_of_Thrones__season_2_.txt\n",
            "INFO - haystack.utils.preprocessing -  Converting data/tutorial1/214_Dothraki_language.txt\n",
            "INFO - haystack.utils.preprocessing -  Converting data/tutorial1/501_Khal_Drogo.txt\n",
            "INFO - haystack.utils.preprocessing -  Converting data/tutorial1/7_The_Spoils_of_War__Game_of_Thrones_.txt\n",
            "INFO - haystack.utils.preprocessing -  Converting data/tutorial1/53_The_Lion_and_the_Rose.txt\n",
            "INFO - haystack.utils.preprocessing -  Converting data/tutorial1/213_Valyrian_languages.txt\n",
            "INFO - haystack.utils.preprocessing -  Converting data/tutorial1/37_Joffrey_Baratheon.txt\n",
            "INFO - haystack.utils.preprocessing -  Converting data/tutorial1/273_High_Sparrow.txt\n",
            "INFO - haystack.utils.preprocessing -  Converting data/tutorial1/136_Game_of_Thrones__Season_8__soundtrack_.txt\n",
            "INFO - haystack.utils.preprocessing -  Converting data/tutorial1/306_The_Dance_of_Dragons.txt\n",
            "INFO - haystack.utils.preprocessing -  Converting data/tutorial1/55_Breaker_of_Chains.txt\n",
            "INFO - haystack.utils.preprocessing -  Converting data/tutorial1/208_Robb_Stark.txt\n",
            "INFO - haystack.utils.preprocessing -  Converting data/tutorial1/133_Game_of_Thrones__Season_5__soundtrack_.txt\n",
            "INFO - haystack.utils.preprocessing -  Converting data/tutorial1/218_Olenna_Tyrell.txt\n",
            "INFO - haystack.utils.preprocessing -  Converting data/tutorial1/145_Elio_M._García_Jr._and_Linda_Antonsson.txt\n",
            "INFO - haystack.utils.preprocessing -  Converting data/tutorial1/40_Stannis_Baratheon.txt\n",
            "INFO - haystack.utils.preprocessing -  Converting data/tutorial1/97_Tyrion_Lannister.txt\n",
            "INFO - haystack.utils.preprocessing -  Converting data/tutorial1/425_No_One__Game_of_Thrones_.txt\n",
            "INFO - haystack.utils.preprocessing -  Converting data/tutorial1/348_The_Winds_of_Winter.txt\n",
            "INFO - haystack.utils.preprocessing -  Converting data/tutorial1/331_Bran_Stark.txt\n",
            "INFO - haystack.utils.preprocessing -  Converting data/tutorial1/453_Game_of_Thrones__2012_video_game_.txt\n",
            "INFO - haystack.utils.preprocessing -  Converting data/tutorial1/194_A_Song_of_Ice_and_Fire.txt\n",
            "INFO - haystack.utils.preprocessing -  Converting data/tutorial1/346_Ygritte.txt\n",
            "INFO - haystack.utils.preprocessing -  Converting data/tutorial1/332_Sansa_Stark.txt\n",
            "INFO - haystack.utils.preprocessing -  Converting data/tutorial1/411_The_Iron_Throne__Game_of_Thrones_.txt\n",
            "INFO - haystack.utils.preprocessing -  Converting data/tutorial1/10_Beyond_the_Wall__Game_of_Thrones_.txt\n",
            "INFO - haystack.utils.preprocessing -  Converting data/tutorial1/379_Davos_Seaworth.txt\n",
            "INFO - haystack.utils.preprocessing -  Converting data/tutorial1/356_Tales_of_Dunk_and_Egg.txt\n",
            "INFO - haystack.utils.preprocessing -  Converting data/tutorial1/469_Outline_of_A_Song_of_Ice_and_Fire_franchise.txt\n",
            "INFO - haystack.utils.preprocessing -  Converting data/tutorial1/79_Thronecast.txt\n",
            "INFO - haystack.utils.preprocessing -  Converting data/tutorial1/131_Mhysa.txt\n",
            "INFO - haystack.utils.preprocessing -  Converting data/tutorial1/9_Game_of_Thrones_Tapestry.txt\n",
            "INFO - haystack.utils.preprocessing -  Converting data/tutorial1/329_Robert_Baratheon.txt\n",
            "INFO - haystack.utils.preprocessing -  Converting data/tutorial1/359_Kill_the_Boy.txt\n",
            "INFO - haystack.utils.preprocessing -  Converting data/tutorial1/513_Oathbreaker__Game_of_Thrones_.txt\n",
            "INFO - haystack.utils.preprocessing -  Converting data/tutorial1/506_Game_of_Thrones_Theme.txt\n",
            "INFO - haystack.utils.preprocessing -  Converting data/tutorial1/44_Daenerys_Targaryen.txt\n",
            "INFO - haystack.utils.preprocessing -  Converting data/tutorial1/362_Winter_Is_Coming.txt\n",
            "INFO - haystack.utils.preprocessing -  Converting data/tutorial1/212_The_Children__Game_of_Thrones_.txt\n",
            "INFO - haystack.utils.preprocessing -  Converting data/tutorial1/119_Walk_of_Punishment.txt\n",
            "INFO - haystack.utils.preprocessing -  Converting data/tutorial1/3_The_Queen_s_Justice.txt\n",
            "INFO - haystack.utils.preprocessing -  Converting data/tutorial1/12_Fire.txt\n"
          ]
        },
        {
          "name": "stdout",
          "output_type": "stream",
          "text": [
            "[<Document: {'content': 'The \\'\\'\\'Iron Throne\\'\\'\\' is a metonym for the fictional monarchy of Westeros as well as the physical throne of its monarch in the \\'\\'A Song of Ice and Fire\\'\\' series of fantasy novels by George R. R. Martin. The success of the HBO television adaptation \\'\\'Game of Thrones\\'\\' has made the show\\'s version of the royal seat an icon of the entire media franchise. Martin said in 2013,  \"Say \\'\\'Game of Thrones\\'\\', and people think of the HBO Iron Throne.\"\\nMartin called the depiction of the throne in his 2014 \\'\\'A Song of Ice and Fire\\'\\' companion book \\'\\'The World of Ice & Fire\\'\\' \"absolutely right\". He has noted repeatedly that none of the previous media representations of the throne—including books, games and the TV series—closely resemble what he had in mind when writing his novels.', 'content_type': 'text', 'score': None, 'meta': {'name': '51_Iron_Throne__A_Song_of_Ice_and_Fire_.txt'}, 'embedding': None, 'id': 'c7df5d976697b9a9bd6b55097b8e3223'}>, <Document: {'content': \"\\n==''A Song of Ice and Fire''==\\nIn the series, the Iron Throne is both a physical seat of office as well as a metonym for the monarchy of Westeros. Martin establishes in ''A Game of Thrones'' (1996) that after seizing control of six of the Seven Kingdoms, Targaryen ruler Aegon the Conqueror had made a throne for himself from the swords of his vanquished enemies, fused by dragonfire. Aegon had established King's Landing as the royal capital, and the Iron Throne itself sits in the Red Keep. Martin writes that according to legend, Aegon kept the blades sharp so that no ruler should ever sit comfortably. Centuries later, kings still cut themselves on the throne; it is a common belief that such rulers are therefore unfit to rule.\", 'content_type': 'text', 'score': None, 'meta': {'name': '51_Iron_Throne__A_Song_of_Ice_and_Fire_.txt'}, 'embedding': None, 'id': '137340baf69a3bd68c192677063be58b'}>, <Document: {'content': '\\n===Description===\\nPurportedly made from a thousand swords and knives, the Iron Throne is a massive and asymmetrical tangle of jagged and twisted blades, in which reclining is impossible.', 'content_type': 'text', 'score': None, 'meta': {'name': '51_Iron_Throne__A_Song_of_Ice_and_Fire_.txt'}, 'embedding': None, 'id': '309ed4a8ca0ba9e9e9a0b784561bb682'}>]\n"
          ]
        }
      ],
      "source": [
        "# Let's first fetch some documents that we want to query\n",
        "# Here: 517 Wikipedia articles for Game of Thrones\n",
        "doc_dir = \"data/tutorial1\"\n",
        "s3_url = \"https://s3.eu-central-1.amazonaws.com/deepset.ai-farm-qa/datasets/documents/wiki_gameofthrones_txt1.zip\"\n",
        "fetch_archive_from_http(url=s3_url, output_dir=doc_dir)\n",
        "\n",
        "# Convert files to dicts\n",
        "# You can optionally supply a cleaning function that is applied to each doc (e.g. to remove footers)\n",
        "# It must take a str as input, and return a str.\n",
        "docs = convert_files_to_docs(dir_path=doc_dir, clean_func=clean_wiki_text, split_paragraphs=True)\n",
        "\n",
        "# We now have a list of dictionaries that we can write to our document store.\n",
        "# If your texts come from a different source (e.g. a DB), you can of course skip convert_files_to_dicts() and create the dictionaries yourself.\n",
        "# The default format here is:\n",
        "# {\n",
        "#    'content': \"<DOCUMENT_TEXT_HERE>\",\n",
        "#    'meta': {'name': \"<DOCUMENT_NAME_HERE>\", ...}\n",
        "# }\n",
        "# (Optionally: you can also add more key-value-pairs here, that will be indexed as fields in Elasticsearch and\n",
        "# can be accessed later for filtering or shown in the responses of the Pipeline)\n",
        "\n",
        "# Let's have a look at the first 3 entries:\n",
        "print(docs[:3])\n",
        "\n",
        "# Now, let's write the dicts containing documents to our DB.\n",
        "document_store.write_documents(docs)"
      ]
    },
    {
      "cell_type": "markdown",
      "metadata": {
        "id": "9kM6YW2HStwg"
      },
      "source": [
        "## Initialize Retriever, Reader & Pipeline\n",
        "\n",
        "### Retriever\n",
        "\n",
        "Retrievers help narrowing down the scope for the Reader to smaller units of text where a given question could be answered.\n",
        "They use some simple but fast algorithm.\n",
        "\n",
        "**Here:** We use Elasticsearch's default BM25 algorithm\n",
        "\n",
        "**Alternatives:**\n",
        "\n",
        "- Customize the `BM25Retriever`with custom queries (e.g. boosting) and filters\n",
        "- Use `TfidfRetriever` in combination with a SQL or InMemory Document store for simple prototyping and debugging\n",
        "- Use `EmbeddingRetriever` to find candidate documents based on the similarity of embeddings (e.g. created via Sentence-BERT)\n",
        "- Use `DensePassageRetriever` to use different embedding models for passage and query (see Tutorial 6)"
      ]
    },
    {
      "cell_type": "code",
      "execution_count": 9,
      "metadata": {
        "id": "Yd7UWRy0Stwg"
      },
      "outputs": [],
      "source": [
        "from haystack.nodes import BM25Retriever\n",
        "\n",
        "retriever = BM25Retriever(document_store=document_store)"
      ]
    },
    {
      "cell_type": "code",
      "execution_count": 10,
      "metadata": {
        "id": "NnYpuGPAStwh",
        "pycharm": {
          "is_executing": false,
          "name": "#%%\n"
        }
      },
      "outputs": [],
      "source": [
        "# Alternative: An in-memory TfidfRetriever based on Pandas dataframes for building quick-prototypes with SQLite document store.\n",
        "\n",
        "# from haystack.nodes import TfidfRetriever\n",
        "# retriever = TfidfRetriever(document_store=document_store)"
      ]
    },
    {
      "cell_type": "markdown",
      "metadata": {
        "id": "0dRX5hH6Stwh"
      },
      "source": [
        "### Reader\n",
        "\n",
        "A Reader scans the texts returned by retrievers in detail and extracts the k best answers. They are based\n",
        "on powerful, but slower deep learning models.\n",
        "\n",
        "Haystack currently supports Readers based on the frameworks FARM and Transformers.\n",
        "With both you can either load a local model or one from Hugging Face's model hub (https://huggingface.co/models).\n",
        "\n",
        "**Here:** a medium sized RoBERTa QA model using a Reader based on FARM (https://huggingface.co/deepset/roberta-base-squad2)\n",
        "\n",
        "**Alternatives (Reader):** TransformersReader (leveraging the `pipeline` of the Transformers package)\n",
        "\n",
        "**Alternatives (Models):** e.g. \"distilbert-base-uncased-distilled-squad\" (fast) or \"deepset/bert-large-uncased-whole-word-masking-squad2\" (good accuracy)\n",
        "\n",
        "**Hint:** You can adjust the model to return \"no answer possible\" with the no_ans_boost. Higher values mean the model prefers \"no answer possible\"\n",
        "\n",
        "#### FARMReader"
      ]
    },
    {
      "cell_type": "code",
      "execution_count": 11,
      "metadata": {
        "id": "JhGaV3oqStwh",
        "pycharm": {
          "is_executing": false
        }
      },
      "outputs": [
        {
          "name": "stderr",
          "output_type": "stream",
          "text": [
            "INFO - haystack.modeling.utils -  Using devices: CUDA:0, CUDA:1\n",
            "INFO - haystack.modeling.utils -  Number of GPUs: 2\n",
            "INFO - haystack.modeling.model.language_model -   * LOADING MODEL: 'deepset/roberta-base-squad2' (Roberta)\n",
            "INFO - haystack.modeling.model.language_model -  Auto-detected model language: english\n",
            "INFO - haystack.modeling.model.language_model -  Loaded 'deepset/roberta-base-squad2' (Roberta model) from model hub.\n",
            "INFO - haystack.modeling.utils -  Using devices: CUDA\n",
            "INFO - haystack.modeling.utils -  Number of GPUs: 1\n",
            "INFO - haystack.modeling.infer -  Got ya 15 parallel workers to do inference ...\n",
            "INFO - haystack.modeling.infer -   0     0     0     0     0     0     0     0     0     0     0     0     0     0     0  \n",
            "INFO - haystack.modeling.infer -  /w\\   /w\\   /w\\   /w\\   /w\\   /w\\   /w\\   /|\\   /w\\   /w\\   /w\\   /w\\   /w\\   /w\\   /|\\ \n",
            "INFO - haystack.modeling.infer -  /'\\   / \\   /'\\   /'\\   / \\   / \\   /'\\   /'\\   /'\\   /'\\   /'\\   /'\\   / \\   /'\\   /'\\ \n"
          ]
        }
      ],
      "source": [
        "# Load a  local model or any of the QA models on\n",
        "# Hugging Face's model hub (https://huggingface.co/models)\n",
        "\n",
        "reader = FARMReader(model_name_or_path=\"deepset/roberta-base-squad2\", use_gpu=True)"
      ]
    },
    {
      "cell_type": "markdown",
      "metadata": {
        "id": "eZg_RZ6YStwh"
      },
      "source": [
        "#### TransformersReader"
      ]
    },
    {
      "cell_type": "code",
      "execution_count": 12,
      "metadata": {
        "id": "yF-kfKf0Stwi"
      },
      "outputs": [],
      "source": [
        "# Alternative:\n",
        "# reader = TransformersReader(model_name_or_path=\"distilbert-base-uncased-distilled-squad\", tokenizer=\"distilbert-base-uncased\", use_gpu=-1)"
      ]
    },
    {
      "cell_type": "markdown",
      "metadata": {
        "id": "Fe3etJcSStwi"
      },
      "source": [
        "### Pipeline\n",
        "\n",
        "With a Haystack `Pipeline` you can stick together your building blocks to a search pipeline.\n",
        "Under the hood, `Pipelines` are Directed Acyclic Graphs (DAGs) that you can easily customize for your own use cases.\n",
        "To speed things up, Haystack also comes with a few predefined Pipelines. One of them is the `ExtractiveQAPipeline` that combines a retriever and a reader to answer our questions.\n",
        "You can learn more about `Pipelines` in the [docs](https://haystack.deepset.ai/docs/latest/pipelinesmd)."
      ]
    },
    {
      "cell_type": "code",
      "execution_count": 13,
      "metadata": {
        "id": "Vj4yz2ATStwi",
        "pycharm": {
          "is_executing": false
        }
      },
      "outputs": [],
      "source": [
        "from haystack.pipelines import ExtractiveQAPipeline\n",
        "\n",
        "pipe = ExtractiveQAPipeline(reader, retriever)"
      ]
    },
    {
      "cell_type": "markdown",
      "metadata": {
        "id": "UY613aN7Stwi"
      },
      "source": [
        "## Voilà! Ask a question!"
      ]
    },
    {
      "cell_type": "code",
      "execution_count": 14,
      "metadata": {
        "id": "HkAc1CRIStwk",
        "pycharm": {
          "is_executing": false
        }
      },
      "outputs": [
        {
          "name": "stderr",
          "output_type": "stream",
          "text": [
            "Inferencing Samples: 100%|██████████| 1/1 [00:00<00:00,  1.10 Batches/s]\n",
            "Inferencing Samples: 100%|██████████| 1/1 [00:00<00:00, 85.03 Batches/s]\n",
            "Inferencing Samples: 100%|██████████| 1/1 [00:00<00:00, 60.41 Batches/s]\n",
            "Inferencing Samples: 100%|██████████| 1/1 [00:00<00:00, 75.83 Batches/s]\n",
            "Inferencing Samples: 100%|██████████| 1/1 [00:00<00:00, 83.45 Batches/s]\n",
            "Inferencing Samples: 100%|██████████| 1/1 [00:00<00:00, 94.10 Batches/s]\n",
            "Inferencing Samples: 100%|██████████| 1/1 [00:00<00:00, 82.44 Batches/s]\n",
            "Inferencing Samples: 100%|██████████| 1/1 [00:00<00:00, 35.38 Batches/s]\n",
            "Inferencing Samples: 100%|██████████| 1/1 [00:00<00:00, 83.62 Batches/s]\n",
            "Inferencing Samples: 100%|██████████| 1/1 [00:00<00:00, 84.32 Batches/s]\n"
          ]
        }
      ],
      "source": [
        "# You can configure how many candidates the Reader and Retriever shall return\n",
        "# The higher top_k_retriever, the better (but also the slower) your answers.\n",
        "prediction = pipe.run(\n",
        "    query=\"Who is the father of Arya Stark?\", params={\"Retriever\": {\"top_k\": 10}, \"Reader\": {\"top_k\": 5}}\n",
        ")"
      ]
    },
    {
      "cell_type": "code",
      "execution_count": 15,
      "metadata": {
        "id": "3SMOSAoJStwk"
      },
      "outputs": [],
      "source": [
        "# prediction = pipe.run(query=\"Who created the Dothraki vocabulary?\", params={\"Reader\": {\"top_k\": 5}})\n",
        "# prediction = pipe.run(query=\"Who is the sister of Sansa?\", params={\"Reader\": {\"top_k\": 5}})"
      ]
    },
    {
      "cell_type": "code",
      "execution_count": 18,
      "metadata": {},
      "outputs": [
        {
          "name": "stderr",
          "output_type": "stream",
          "text": [
            "Inferencing Samples: 100%|██████████| 1/1 [00:00<00:00, 16.24 Batches/s]\n",
            "Inferencing Samples: 100%|██████████| 1/1 [00:00<00:00, 56.04 Batches/s]\n",
            "Inferencing Samples: 100%|██████████| 1/1 [00:00<00:00, 49.98 Batches/s]\n",
            "Inferencing Samples: 100%|██████████| 1/1 [00:00<00:00, 82.33 Batches/s]\n",
            "Inferencing Samples: 100%|██████████| 1/1 [00:00<00:00, 74.30 Batches/s]\n",
            "Inferencing Samples: 100%|██████████| 1/1 [00:00<00:00, 94.55 Batches/s]\n",
            "Inferencing Samples: 100%|██████████| 1/1 [00:00<00:00, 101.31 Batches/s]\n",
            "Inferencing Samples: 100%|██████████| 1/1 [00:00<00:00, 98.33 Batches/s]\n",
            "Inferencing Samples: 100%|██████████| 1/1 [00:00<00:00, 98.33 Batches/s]\n",
            "Inferencing Samples: 100%|██████████| 1/1 [00:00<00:00, 104.32 Batches/s]\n"
          ]
        }
      ],
      "source": [
        "# prediction = pipe.run(query=\"When Game of Thrones is premiered on television?\", params={\"Reader\": {\"top_k\": 5}})"
      ]
    },
    {
      "cell_type": "code",
      "execution_count": 19,
      "metadata": {
        "id": "qTZGg1fiStwk"
      },
      "outputs": [
        {
          "name": "stdout",
          "output_type": "stream",
          "text": [
            "{'answers': [<Answer {'answer': 'April 17, 2011', 'type': 'extractive', 'score': 0.981870025396347, 'context': 'rounding King Robert Baratheon (Mark Addy).\\nThe series premiered on April 17, 2011, on HBO. David Benioff and D. B. Weiss both serve as executive prod', 'offsets_in_document': [{'start': 579, 'end': 593}], 'offsets_in_context': [{'start': 68, 'end': 82}], 'document_id': 'a8bc7100d78f126a120fa1377f9747d7', 'meta': {'name': '360_List_of_Game_of_Thrones_episodes.txt'}}>,\n",
            "             <Answer {'answer': 'April 2011', 'type': 'extractive', 'score': 0.9801165461540222, 'context': \"e in March 2010. The series, titled ''Game of Thrones'', premiered in April 2011 to great acclaim and ratings (see ''Game of Thrones'': Reception). Th\", 'offsets_in_document': [{'start': 307, 'end': 317}], 'offsets_in_context': [{'start': 70, 'end': 80}], 'document_id': 'f134f24636af98b246b0d5f814adf831', 'meta': {'name': '194_A_Song_of_Ice_and_Fire.txt'}}>,\n",
            "             <Answer {'answer': '17 April 2011', 'type': 'extractive', 'score': 0.9798165857791901, 'context': 'ast including Sean Bean and Peter Dinklage.  The series premiered on 17 April 2011. A critical and commercial success, it ran for eight seasons, concl', 'offsets_in_document': [{'start': 296, 'end': 309}], 'offsets_in_context': [{'start': 69, 'end': 82}], 'document_id': 'd32a89f1c64b1b6fb1c96e0e2a5dfe97', 'meta': {'name': '456_Works_based_on_A_Song_of_Ice_and_Fire.txt'}}>,\n",
            "             <Answer {'answer': 'May 20, 2012', 'type': 'extractive', 'score': 0.9515619277954102, 'context': ', for the third time in this season, by Alan Taylor. It premiered on May 20, 2012.\\nThe title of the episode refers to Theon Greyjoy as ruler of Winter', 'offsets_in_document': [{'start': 297, 'end': 309}], 'offsets_in_context': [{'start': 69, 'end': 81}], 'document_id': 'ab08c5eb06ea667b0668d41650781949', 'meta': {'name': '74_The_Prince_of_Winterfell.txt'}}>,\n",
            "             <Answer {'answer': 'May 13, 2012', 'type': 'extractive', 'score': 0.9422973990440369, 'context': \"for the second time in this season, by David Nutter. It premiered on May 13, 2012.\\nThe name of the episode comes from Catelyn Stark's assessment of Se\", 'offsets_in_document': [{'start': 295, 'end': 307}], 'offsets_in_context': [{'start': 69, 'end': 81}], 'document_id': 'f9493a6ef69e3029d4a30c852ce588d7', 'meta': {'name': '73_A_Man_Without_Honor.txt'}}>],\n",
            " 'documents': [<Document: {'content': '\\'\\'\\'\\'\\'Game of Thrones: Season 1\\'\\'\\'\\'\\' is the soundtrack album for the first season of HBO series \\'\\'Game of Thrones\\'\\'. Composed by Ramin Djawadi, it was released on June 14, 2011 for digital download and on CD. Djawadi accepted the task 10 weeks before the show premiered, after Stephen Warbeck left the project.  The soundtrack has received neutral to favorable reviews and peaked at #17 on the U.S. Soundtrack Albums chart. It was nominated for International Film Music Critics Association for \"Best Original Score for a Television Series\".', 'content_type': 'text', 'score': 0.8508199416384516, 'meta': {'name': '24_Game_of_Thrones__Season_1__soundtrack_.txt'}, 'embedding': None, 'id': 'c59eabbf1aa5850c0b5f132e76326388'}>,\n",
            "               <Document: {'content': \"'''''After the Thrones''''' is an American live television aftershow that premiered on April 25, 2016, and ended on June 28, 2016. It was hosted by Andy Greenwald and Chris Ryan who discussed episodes of the HBO television series ''Game of Thrones''. The talk show is executive produced by Bill Simmons and Eric Weinberger. Greenwald and Ryan previously hosted a podcast version of the show titled ''Watch the Thrones'' on Simmons' Grantland website. A similar talk show called ''Thronecast'' airs on British channel Sky Atlantic, which also discusses episodes of ''Game of Thrones''.\\nThe talk show was made available to HBO and HBO Now subscribers, and airs on the Monday following each episode of ''Game of Thrones''. After the show's cancellation, Greenwald and Ryan, along with Simmons, made a similar live stream video podcast for distribution on Twitter called ''Talk the Thrones''. Although it covers the same subject matter, it is a different production.\", 'content_type': 'text', 'score': 0.8494837966376495, 'meta': {'name': '511_After_the_Thrones.txt'}, 'embedding': None, 'id': '2ffda592be45b4010eff34f60771d2bb'}>,\n",
            "               <Document: {'content': \"\\n===TV series===\\nWith the popularity of the series growing, HBO optioned ''A Song of Ice and Fire'' for a television adaptation in 2007. A pilot episode was produced in late 2009, and a series commitment for nine further episodes was made in March 2010. The series, titled ''Game of Thrones'', premiered in April 2011 to great acclaim and ratings (see ''Game of Thrones'': Reception). The network picked up the show for a second season covering ''A Clash of Kings'' two days later. Shortly after the conclusion of the first season, the show received 13 Emmy Award nominations, including Outstanding Drama Series, winning Outstanding Main Title Design and Outstanding Supporting Actor in a Drama Series for Peter Dinklage's portrayal of Tyrion Lannister. HBO announced a renewal for a third season in April 2012, ten days after the season 2 premiere. Due to the length of the corresponding book, the third season only covered roughly the first half of ''A Storm of Swords''.\\nShortly after the season 3 premiere in March 2013, the network announced that ''Game of Thrones'' would be returning for a fourth season, which would cover the second half of ''A Storm of Swords ''along with the beginnings of ''A Feast for Crows ''and ''A Dance With Dragons''. ''Game of Thrones'' was nominated for 15 Emmy Awards for season 3. Two days after the fourth season premiered in April 2014, HBO renewed ''Game of Thrones'' for a fifth and sixth season. Season 5 premiered on April 12, 2015 and set a Guinness World Records for winning the highest number of Emmy Awards for a series in a single season and year, winning 12 out of 24 nominations, including Outstanding Drama Series.\\nThese episodes were watched by 8\\xa0million viewers, setting a record number for the series. The sixth season premiered on April 24, 2016. These episodes received the most nominations for the 68th Primetime Emmy Awards with 23, winning 12, including the award for Outstanding Drama Series. The seventh season premiered on July 16, 2017. The eighth and final season premiered on April 14, 2019.\", 'content_type': 'text', 'score': 0.8456504814484931, 'meta': {'name': '194_A_Song_of_Ice_and_Fire.txt'}, 'embedding': None, 'id': 'f134f24636af98b246b0d5f814adf831'}>,\n",
            "               <Document: {'content': '\\'\\'Game of Thrones\\'\\' is an American fantasy drama television series created by David Benioff and D. B. Weiss. The series is based on George R. R. Martin\\'s series of fantasy novels, \\'\\'A Song of Ice and Fire\\'\\'. The series takes place on the fictional continents of Westeros and Essos, and chronicles the power struggles among noble families as they fight for control of the Iron Throne of the Seven Kingdoms. The series starts when House Stark, led by Lord Eddard \"Ned\" Stark (Sean Bean), is drawn into schemes surrounding King Robert Baratheon (Mark Addy).\\nThe series premiered on April 17, 2011, on HBO. David Benioff and D. B. Weiss both serve as executive producers, along with Carolyn Strauss, Frank Doelger, Bernadette Caulfield, and George R. R. Martin. Filming for the series has taken place in a number of locations, including Croatia, Ireland, Iceland, and Spain. Episodes were broadcast on Sunday at 9:00 pm Eastern Time, and the episodes are between 50 and 82 minutes in length. The first seven seasons are available on DVD and Blu-ray.\\nThe series concluded with its eighth season, which premiered on April 14, 2019, and consisted of six episodes. The show\\'s episodes have won numerous awards including four Primetime Emmy Award for Outstanding Drama Series. ', 'content_type': 'text', 'score': 0.8455364001324028, 'meta': {'name': '360_List_of_Game_of_Thrones_episodes.txt'}, 'embedding': None, 'id': 'a8bc7100d78f126a120fa1377f9747d7'}>,\n",
            "               <Document: {'content': '\"\\'\\'\\'The Prince of Winterfell\\'\\'\\'\" is the eighth episode of the second season of HBO\\'s medieval fantasy television series \\'\\'Game of Thrones\\'\\'. The episode is written by series co-creators David Benioff and D. B. Weiss and directed, for the third time in this season, by Alan Taylor. It premiered on May 20, 2012.\\nThe title of the episode refers to Theon Greyjoy as ruler of Winterfell after disposing of the Stark children.', 'content_type': 'text', 'score': 0.8414576752791992, 'meta': {'name': '74_The_Prince_of_Winterfell.txt'}, 'embedding': None, 'id': 'ab08c5eb06ea667b0668d41650781949'}>,\n",
            "               <Document: {'content': '\"\\'\\'\\'Two Swords\\'\\'\\'\" is the fourth season premiere episode of HBO\\'s fantasy television series \\'\\'Game of Thrones\\'\\', and the 31st overall. The episode was written by series co-creators and showrunners David Benioff and D. B. Weiss, and directed by Weiss. It premiered on April 6, 2014.\\nThe title of the episode refers to the two swords Tywin Lannister forges from Ice, Ned Stark\\'s large Valyrian steel sword, in the opening sequence.', 'content_type': 'text', 'score': 0.8406034628206678, 'meta': {'name': '54_Two_Swords__Game_of_Thrones_.txt'}, 'embedding': None, 'id': '8b466e3cac8f84dbce3c1e49e69abbb1'}>,\n",
            "               <Document: {'content': \"\\n===''Game of Thrones''===\\nIn March 2010, HBO greenlit a television series based on ''A Song of Ice and Fire'', written and executive produced by David Benioff and D. B. Weiss. Called ''Game of Thrones'', it stars an ensemble cast including Sean Bean and Peter Dinklage.  The series premiered on 17 April 2011. A critical and commercial success, it ran for eight seasons, concluding in 2019.\\nThe series has itself given rise to several derived works, including soundtrack albums and a wide range of merchandise.\", 'content_type': 'text', 'score': 0.8381011446068319, 'meta': {'name': '456_Works_based_on_A_Song_of_Ice_and_Fire.txt'}, 'embedding': None, 'id': 'd32a89f1c64b1b6fb1c96e0e2a5dfe97'}>,\n",
            "               <Document: {'content': \"\\n===Broadcast===\\n''Game of Thrones'' premiered on HBO in the United States and Canada on April 17, 2011, and on Sky Atlantic in the United Kingdom and Ireland on April 18, 2011, with a same-day release on HBO Central Europe. The series premiered in Australia on Showcase on July 17, 2011.\", 'content_type': 'text', 'score': 0.8345348458382703, 'meta': {'name': '442_Game_of_Thrones__season_1_.txt'}, 'embedding': None, 'id': '165de2d5b026b4adb51267ad43a481be'}>,\n",
            "               <Document: {'content': '\"\\'\\'\\'A Man Without Honor\\'\\'\\'\" is the seventh episode of the second season of HBO\\'s medieval fantasy television series \\'\\'Game of Thrones\\'\\'.\\nThe episode is written by series co-creators David Benioff and D. B. Weiss and directed, for the second time in this season, by David Nutter. It premiered on May 13, 2012.\\nThe name of the episode comes from Catelyn Stark\\'s assessment of Ser Jaime Lannister: \"You are a man without honor,\" after he kills a member of his own family to attempt escape.', 'content_type': 'text', 'score': 0.8334049651213309, 'meta': {'name': '73_A_Man_Without_Honor.txt'}, 'embedding': None, 'id': 'f9493a6ef69e3029d4a30c852ce588d7'}>,\n",
            "               <Document: {'content': '\\'\\'\\'\"Titties and Dragons\"\\'\\'\\' is the ninth episode in the seventeenth season of the American animated television series \\'\\'South Park\\'\\'. The 246th episode of the series overall, it premiered on Comedy Central in the United States on December 4, 2013. It is the conclusion of a three-episode story arc that began with \"Black Friday\", and continued with \"A Song of Ass and Fire\". The story centers upon the children of South Park, role-playing as characters from \\'\\'Game of Thrones\\'\\', split into two factions over whether to collectively purchase bargain-priced Xbox One or PlayStation 4 video game consoles at an upcoming Black Friday sale at the local mall, where Randy Marsh has been made the Captain of mall security. The episode received critical acclaim.', 'content_type': 'text', 'score': 0.8250653507637347, 'meta': {'name': '101_Titties_and_Dragons.txt'}, 'embedding': None, 'id': '4d8e5948d78ab2186088d586555a0d93'}>],\n",
            " 'no_ans_gap': 13.364519596099854,\n",
            " 'node_id': 'Reader',\n",
            " 'params': {'Reader': {'top_k': 5}},\n",
            " 'query': 'When Game of Thrones is premiered on television?',\n",
            " 'root_node': 'Query'}\n"
          ]
        }
      ],
      "source": [
        "# Now you can either print the object directly...\n",
        "from pprint import pprint\n",
        "\n",
        "pprint(prediction)\n",
        "\n",
        "# Sample output:\n",
        "# {\n",
        "#     'answers': [ <Answer: answer='Eddard', type='extractive', score=0.9919578731060028, offsets_in_document=[{'start': 608, 'end': 615}], offsets_in_context=[{'start': 72, 'end': 79}], document_id='cc75f739897ecbf8c14657b13dda890e', meta={'name': '454_Music_of_Game_of_Thrones.txt'}}, context='...' >,\n",
        "#                  <Answer: answer='Ned', type='extractive', score=0.9767240881919861, offsets_in_document=[{'start': 3687, 'end': 3801}], offsets_in_context=[{'start': 18, 'end': 132}], document_id='9acf17ec9083c4022f69eb4a37187080', meta={'name': '454_Music_of_Game_of_Thrones.txt'}}, context='...' >,\n",
        "#                  ...\n",
        "#                ]\n",
        "#     'documents': [ <Document: content_type='text', score=0.8034909798951382, meta={'name': '332_Sansa_Stark.txt'}, embedding=None, id=d1f36ec7170e4c46cde65787fe125dfe', content='\\n===\\'\\'A Game of Thrones\\'\\'===\\nSansa Stark begins the novel by being betrothed to Crown ...'>,\n",
        "#                    <Document: content_type='text', score=0.8002150354529785, meta={'name': '191_Gendry.txt'}, embedding=None, id='dd4e070a22896afa81748d6510006d2', 'content='\\n===Season 2===\\nGendry travels North with Yoren and other Night's Watch recruits, including Arya ...'>,\n",
        "#                    ...\n",
        "#                  ],\n",
        "#     'no_ans_gap':  11.688868522644043,\n",
        "#     'node_id': 'Reader',\n",
        "#     'params': {'Reader': {'top_k': 5}, 'Retriever': {'top_k': 5}},\n",
        "#     'query': 'Who is the father of Arya Stark?',\n",
        "#     'root_node': 'Query'\n",
        "# }"
      ]
    },
    {
      "cell_type": "code",
      "execution_count": 20,
      "metadata": {
        "id": "YctMbGHoStwl",
        "pycharm": {
          "is_executing": false,
          "name": "#%%\n"
        }
      },
      "outputs": [
        {
          "name": "stdout",
          "output_type": "stream",
          "text": [
            "\n",
            "Query: When Game of Thrones is premiered on television?\n",
            "Answers:\n",
            "[   {   'answer': 'April 17, 2011',\n",
            "        'context': 'rounding King Robert Baratheon (Mark Addy).\\n'\n",
            "                   'The series premiered on April 17, 2011, on HBO. David '\n",
            "                   'Benioff and D. B. Weiss both serve as executive prod'},\n",
            "    {   'answer': 'April 2011',\n",
            "        'context': \"e in March 2010. The series, titled ''Game of Thrones'', \"\n",
            "                   'premiered in April 2011 to great acclaim and ratings (see '\n",
            "                   \"''Game of Thrones'': Reception). Th\"},\n",
            "    {   'answer': '17 April 2011',\n",
            "        'context': 'ast including Sean Bean and Peter Dinklage.  The series '\n",
            "                   'premiered on 17 April 2011. A critical and commercial '\n",
            "                   'success, it ran for eight seasons, concl'},\n",
            "    {   'answer': 'May 20, 2012',\n",
            "        'context': ', for the third time in this season, by Alan Taylor. It '\n",
            "                   'premiered on May 20, 2012.\\n'\n",
            "                   'The title of the episode refers to Theon Greyjoy as ruler '\n",
            "                   'of Winter'},\n",
            "    {   'answer': 'May 13, 2012',\n",
            "        'context': 'for the second time in this season, by David Nutter. It '\n",
            "                   'premiered on May 13, 2012.\\n'\n",
            "                   \"The name of the episode comes from Catelyn Stark's \"\n",
            "                   'assessment of Se'}]\n"
          ]
        }
      ],
      "source": [
        "# ...or use a util to simplify the output\n",
        "# Change `minimum` to `medium` or `all` to raise the level of detail\n",
        "print_answers(prediction, details=\"minimum\")"
      ]
    },
    {
      "cell_type": "markdown",
      "metadata": {
        "collapsed": false,
        "id": "RWdd-0XlStwm",
        "pycharm": {
          "name": "#%% md\n"
        }
      },
      "source": [
        "## About us\n",
        "\n",
        "This [Haystack](https://github.com/deepset-ai/haystack/) notebook was made with love by [deepset](https://deepset.ai/) in Berlin, Germany\n",
        "\n",
        "We bring NLP to the industry via open source!  \n",
        "Our focus: Industry specific language models & large scale QA systems.  \n",
        "  \n",
        "Some of our other work: \n",
        "- [German BERT](https://deepset.ai/german-bert)\n",
        "- [GermanQuAD and GermanDPR](https://deepset.ai/germanquad)\n",
        "- [FARM](https://github.com/deepset-ai/FARM)\n",
        "\n",
        "Get in touch:\n",
        "[Twitter](https://twitter.com/deepset_ai) | [LinkedIn](https://www.linkedin.com/company/deepset-ai/) | [Slack](https://haystack.deepset.ai/community/join) | [GitHub Discussions](https://github.com/deepset-ai/haystack/discussions) | [Website](https://deepset.ai)\n",
        "\n",
        "By the way: [we're hiring!](https://www.deepset.ai/jobs)\n"
      ]
    }
  ],
  "metadata": {
    "accelerator": "GPU",
    "colab": {
      "provenance": []
    },
    "gpuClass": "standard",
    "kernelspec": {
      "display_name": "Python 3.9.12 ('cs')",
      "language": "python",
      "name": "python3"
    },
    "language_info": {
      "codemirror_mode": {
        "name": "ipython",
        "version": 3
      },
      "file_extension": ".py",
      "mimetype": "text/x-python",
      "name": "python",
      "nbconvert_exporter": "python",
      "pygments_lexer": "ipython3",
      "version": "3.9.12"
    },
    "vscode": {
      "interpreter": {
        "hash": "55c32488f353abc2b13345a23781747ce65d605694f52cfcaabea58a42e43ffa"
      }
    }
  },
  "nbformat": 4,
  "nbformat_minor": 0
}
